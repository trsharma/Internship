{
 "cells": [
  {
   "cell_type": "code",
   "execution_count": 1,
   "id": "cd09d709",
   "metadata": {},
   "outputs": [],
   "source": [
    "# Write a python program to find the factorial of a number\n",
    "def factorial (num):\n",
    "    if num ==1:\n",
    "        return num\n",
    "    else :\n",
    "        return num* factorial(num-1)\n",
    "    "
   ]
  },
  {
   "cell_type": "code",
   "execution_count": 2,
   "id": "42b58754",
   "metadata": {},
   "outputs": [
    {
     "name": "stdout",
     "output_type": "stream",
     "text": [
      "Enter a number: 7\n",
      "Factorial of 7 is: 5040\n"
     ]
    }
   ],
   "source": [
    "num=int(input(\"Enter a number: \"))\n",
    "\n",
    "if num<0:\n",
    "    print (\"Factorial can not be found for negative numbers: \")\n",
    "elif num==0:\n",
    "    print (\"Factorial of 0 is 1:\")\n",
    "else :\n",
    "    print (\"Factorial of\", num, \"is:\", factorial (num))\n",
    "    "
   ]
  },
  {
   "cell_type": "code",
   "execution_count": 3,
   "id": "42a6489c",
   "metadata": {},
   "outputs": [
    {
     "name": "stdout",
     "output_type": "stream",
     "text": [
      "Enter any number:6\n",
      "Number is not prime:\n"
     ]
    }
   ],
   "source": [
    "#. Write a python program to find whether a number is prime or composite.\n",
    "num= int(input(\"Enter any number:\"))\n",
    "if num>1:\n",
    "        for i in range(2,num):\n",
    "            if (num % i)== 0:\n",
    "                print (\"Number is not prime:\")\n",
    "                break   \n",
    "            else:\n",
    "                print(num, \" is PRIME number\")\n",
    "elif num ==0 or num ==1:\n",
    "    print(num, \"is neither a Prime number Nor Composite number\")\n",
    "else:\n",
    "    print (num, \"is a Composite number\")\n",
    "             "
   ]
  },
  {
   "cell_type": "code",
   "execution_count": 4,
   "id": "8cbd8ddb",
   "metadata": {},
   "outputs": [
    {
     "name": "stdout",
     "output_type": "stream",
     "text": [
      "Enter string:malayalam\n",
      "The string is a palindrome\n"
     ]
    }
   ],
   "source": [
    "#. Write a python program to check whether a given string is palindrome or not. \n",
    "\n",
    "my_string=input(\"Enter string:\")\n",
    "\n",
    "if(my_string==my_string[::-1]):\n",
    "    print(\"The string is a palindrome\")\n",
    "else:\n",
    "    print(\"The string isn't a palindrome\") "
   ]
  },
  {
   "cell_type": "code",
   "execution_count": 5,
   "id": "d67fcbe6",
   "metadata": {},
   "outputs": [
    {
     "name": "stdout",
     "output_type": "stream",
     "text": [
      "Please Enter the Width of a Right Angled Triangle: 12\n",
      "Please Enter the Height of a Right Angled Triangle: 15\n",
      " Third side of right angled triangle is: 19.21\n"
     ]
    }
   ],
   "source": [
    "# . Write a Python program to get the third side of right-angled triangle from given sides.\n",
    "\n",
    "\n",
    "import math\n",
    "width = float(input('Please Enter the Width of a Right Angled Triangle: '))\n",
    "height =float(input('Please Enter the Height of a Right Angled Triangle: '))\n",
    "\n",
    "# calculate the Third Side\n",
    "c = math.sqrt((width*width) + (height*height))\n",
    "                     \n",
    "print(\" Third side of right angled triangle is: %.2f\" %c)\n"
   ]
  },
  {
   "cell_type": "code",
   "execution_count": 6,
   "id": "109b06ee",
   "metadata": {},
   "outputs": [
    {
     "name": "stdout",
     "output_type": "stream",
     "text": [
      "Given String:  appleandpapaya\n",
      "Frequency of each character :\n",
      "  {'e': 1, 'a': 5, 'n': 1, 'p': 4, 'd': 1, 'l': 1, 'y': 1}\n"
     ]
    }
   ],
   "source": [
    "# . Write a python program to print the frequency of each of the characters present in a given string.\n",
    "\n",
    "strA = \"appleandpapaya\"\n",
    "print(\"Given String: \",strA)\n",
    "# Using counter\n",
    "res = {}\n",
    "\n",
    "res={n: strA.count(n) for n in set(strA)}\n",
    "\n",
    "# Result\n",
    "print(\"Frequency of each character :\\n \",res)"
   ]
  },
  {
   "cell_type": "code",
   "execution_count": null,
   "id": "20106a26",
   "metadata": {},
   "outputs": [],
   "source": []
  }
 ],
 "metadata": {
  "kernelspec": {
   "display_name": "Python 3 (ipykernel)",
   "language": "python",
   "name": "python3"
  },
  "language_info": {
   "codemirror_mode": {
    "name": "ipython",
    "version": 3
   },
   "file_extension": ".py",
   "mimetype": "text/x-python",
   "name": "python",
   "nbconvert_exporter": "python",
   "pygments_lexer": "ipython3",
   "version": "3.9.7"
  }
 },
 "nbformat": 4,
 "nbformat_minor": 5
}
