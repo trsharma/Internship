{
 "cells": [
  {
   "cell_type": "code",
   "execution_count": 1,
   "id": "ba113ebb",
   "metadata": {},
   "outputs": [],
   "source": [
    "#1: Write a python program to scrape data for “Data Analyst” Job position in “Bangalore” location. You \n",
    "#have to scrape the job-title, job-location, company_name, experience_required. You have to scrape first 10 \n",
    "#jobs data.\n",
    "#This task will be done in following steps:\n",
    "#1. First get the webpage https://www.naukri.com/\n",
    "#2. Enter “Data Analyst” in “Skill, Designations, Companies” field and enter “Bangalore” in “enter the\n",
    "#location” field.\n",
    "#3. Then click the search button.\n",
    "#4. Then scrape the data for the first 10 jobs results you get.\n",
    "#5. Finally create a dataframe of the scraped data.\n",
    "#Note: All of the above steps have to be done in code. No step is to be done manually"
   ]
  },
  {
   "cell_type": "code",
   "execution_count": 2,
   "id": "3f25fa26",
   "metadata": {},
   "outputs": [],
   "source": [
    "import selenium\n",
    "from selenium import webdriver\n",
    "import pandas as pd\n",
    "import warnings\n",
    "warnings.filterwarnings(\"ignore\")"
   ]
  },
  {
   "cell_type": "code",
   "execution_count": 3,
   "id": "3f9ff2d2",
   "metadata": {},
   "outputs": [],
   "source": [
    "driver = webdriver.Chrome(r'C:\\Users\\trapt\\Downloads\\chromedriver_win32\\chromedriver.exe')"
   ]
  },
  {
   "cell_type": "code",
   "execution_count": 4,
   "id": "bd81d057",
   "metadata": {},
   "outputs": [],
   "source": [
    "driver = webdriver.Chrome('chromedriver.exe')"
   ]
  },
  {
   "cell_type": "code",
   "execution_count": 5,
   "id": "7b15f85c",
   "metadata": {},
   "outputs": [],
   "source": [
    "url='https://www.naukri.com/'\n",
    "driver.get(url)"
   ]
  },
  {
   "cell_type": "code",
   "execution_count": 6,
   "id": "844066bd",
   "metadata": {},
   "outputs": [],
   "source": [
    "from selenium.webdriver.common.by import By\n"
   ]
  },
  {
   "cell_type": "code",
   "execution_count": 7,
   "id": "c53e66e3",
   "metadata": {},
   "outputs": [],
   "source": [
    "Search_jobs = driver.find_element(By.CLASS_NAME,\"suggestor-input\") "
   ]
  },
  {
   "cell_type": "code",
   "execution_count": 8,
   "id": "8e43929a",
   "metadata": {},
   "outputs": [
    {
     "data": {
      "text/plain": [
       "<selenium.webdriver.remote.webelement.WebElement (session=\"75399d65569975aededcc2fde4d0ffd0\", element=\"b9729ed0-be5f-42ff-b879-a545f5297189\")>"
      ]
     },
     "execution_count": 8,
     "metadata": {},
     "output_type": "execute_result"
    }
   ],
   "source": [
    "Search_jobs"
   ]
  },
  {
   "cell_type": "code",
   "execution_count": 10,
   "id": "cb9774e2",
   "metadata": {},
   "outputs": [],
   "source": [
    "Search_jobs.send_keys(\"Data Analyst\")"
   ]
  },
  {
   "cell_type": "code",
   "execution_count": 11,
   "id": "e55d2221",
   "metadata": {},
   "outputs": [],
   "source": [
    "Search_loc = driver.find_element(By.XPATH, \"/html/body/div[1]/div[2]/div[3]/div/div/div[5]/div/div/div/input\")"
   ]
  },
  {
   "cell_type": "code",
   "execution_count": 12,
   "id": "a6843dcd",
   "metadata": {},
   "outputs": [
    {
     "data": {
      "text/plain": [
       "<selenium.webdriver.remote.webelement.WebElement (session=\"75399d65569975aededcc2fde4d0ffd0\", element=\"0ce6ff7e-255a-4efc-94b1-430f30163c0f\")>"
      ]
     },
     "execution_count": 12,
     "metadata": {},
     "output_type": "execute_result"
    }
   ],
   "source": [
    "Search_loc"
   ]
  },
  {
   "cell_type": "code",
   "execution_count": 13,
   "id": "5df11bd4",
   "metadata": {},
   "outputs": [],
   "source": [
    "Search_loc.send_keys(\"Bangalore\")"
   ]
  },
  {
   "cell_type": "code",
   "execution_count": 14,
   "id": "345d3881",
   "metadata": {},
   "outputs": [],
   "source": [
    "Search_btn =driver.find_element(By.XPATH, \"/html/body/div[1]/div[2]/div[3]/div/div/div[6]\")"
   ]
  },
  {
   "cell_type": "code",
   "execution_count": 15,
   "id": "9a5181dd",
   "metadata": {},
   "outputs": [
    {
     "data": {
      "text/plain": [
       "<selenium.webdriver.remote.webelement.WebElement (session=\"75399d65569975aededcc2fde4d0ffd0\", element=\"d6d86e88-2b8a-4cec-9b76-6fdeac3b2697\")>"
      ]
     },
     "execution_count": 15,
     "metadata": {},
     "output_type": "execute_result"
    }
   ],
   "source": [
    "Search_btn"
   ]
  },
  {
   "cell_type": "code",
   "execution_count": 16,
   "id": "383f4307",
   "metadata": {},
   "outputs": [],
   "source": [
    "Search_btn.click()"
   ]
  },
  {
   "cell_type": "code",
   "execution_count": 17,
   "id": "34045334",
   "metadata": {},
   "outputs": [],
   "source": [
    "Title_tags = driver.find_elements(By.XPATH,\"//a[@class='title fw500 ellipsis']\")"
   ]
  },
  {
   "cell_type": "code",
   "execution_count": 18,
   "id": "99467762",
   "metadata": {},
   "outputs": [
    {
     "data": {
      "text/plain": [
       "20"
      ]
     },
     "execution_count": 18,
     "metadata": {},
     "output_type": "execute_result"
    }
   ],
   "source": [
    "len(Title_tags)"
   ]
  },
  {
   "cell_type": "code",
   "execution_count": 19,
   "id": "3bceaff0",
   "metadata": {},
   "outputs": [
    {
     "data": {
      "text/plain": [
       "20"
      ]
     },
     "execution_count": 19,
     "metadata": {},
     "output_type": "execute_result"
    }
   ],
   "source": [
    "Job_titles=[]\n",
    "for i in Title_tags:\n",
    "        Job_titles.append(i.text)\n",
    "len(Job_titles)"
   ]
  },
  {
   "cell_type": "code",
   "execution_count": 20,
   "id": "9e9cf76c",
   "metadata": {},
   "outputs": [
    {
     "data": {
      "text/plain": [
       "['Sr.Business Data Analyst',\n",
       " 'Sr Data Analyst',\n",
       " 'Senior Data Analysis Analyst',\n",
       " 'Data Analyst',\n",
       " 'Senior Data Analyst',\n",
       " 'Data Analyst/Senior Data Analyst',\n",
       " 'Financial Data Analyst',\n",
       " 'Data Analyst II',\n",
       " 'Senior Data Analyst II',\n",
       " 'Senior Data Management Analyst',\n",
       " 'Data Analyst',\n",
       " 'Data Analyst - CRM Platform',\n",
       " 'Software Technical Expert - Data Analyst',\n",
       " 'Reference Data Analyst',\n",
       " 'Sales Data Analyst',\n",
       " 'Lead Data Analyst',\n",
       " 'Data Analyst',\n",
       " 'Data Analyst',\n",
       " 'Hiring Data Analyst - Forensics, KPMG India',\n",
       " 'Big data analyst']"
      ]
     },
     "execution_count": 20,
     "metadata": {},
     "output_type": "execute_result"
    }
   ],
   "source": [
    "Job_titles"
   ]
  },
  {
   "cell_type": "code",
   "execution_count": 21,
   "id": "04197f13",
   "metadata": {},
   "outputs": [
    {
     "data": {
      "text/plain": [
       "20"
      ]
     },
     "execution_count": 21,
     "metadata": {},
     "output_type": "execute_result"
    }
   ],
   "source": [
    "Company_tags = driver.find_elements(By.XPATH,\"//a[@class='subTitle ellipsis fleft']\")\n",
    "len(Company_tags)\n"
   ]
  },
  {
   "cell_type": "code",
   "execution_count": 22,
   "id": "f1888c82",
   "metadata": {},
   "outputs": [
    {
     "data": {
      "text/plain": [
       "20"
      ]
     },
     "execution_count": 22,
     "metadata": {},
     "output_type": "execute_result"
    }
   ],
   "source": [
    "\n",
    "Company_names=[]\n",
    "for i in Company_tags:\n",
    "        Company_names.append(i.text)\n",
    "len(Company_names)"
   ]
  },
  {
   "cell_type": "code",
   "execution_count": 23,
   "id": "0a74d0d3",
   "metadata": {},
   "outputs": [
    {
     "data": {
      "text/plain": [
       "['Collabera',\n",
       " 'Thomson Reuters',\n",
       " 'Capco',\n",
       " 'Thomson Reuters',\n",
       " 'KrazyBee',\n",
       " 'Meesho',\n",
       " 'Nuance India',\n",
       " 'Cerner',\n",
       " 'Flipkart',\n",
       " 'Wells Fargo',\n",
       " 'Kititan Co., Ltd',\n",
       " 'Artech infosystem',\n",
       " 'Schneider Electric',\n",
       " 'Deutsche Bank',\n",
       " 'Nuance India',\n",
       " 'PowerSchool India',\n",
       " 'Confidential',\n",
       " 'Clarivate',\n",
       " 'KPMG India',\n",
       " 'Accolite Software India Pvt Ltd']"
      ]
     },
     "execution_count": 23,
     "metadata": {},
     "output_type": "execute_result"
    }
   ],
   "source": [
    "Company_names"
   ]
  },
  {
   "cell_type": "code",
   "execution_count": 24,
   "id": "6d3b8f29",
   "metadata": {},
   "outputs": [
    {
     "data": {
      "text/plain": [
       "20"
      ]
     },
     "execution_count": 24,
     "metadata": {},
     "output_type": "execute_result"
    }
   ],
   "source": [
    "Loc_tags = driver.find_elements(By.XPATH,\"//li[@class='fleft grey-text br2 placeHolderLi location']\")\n",
    "len(Loc_tags)\n"
   ]
  },
  {
   "cell_type": "code",
   "execution_count": 25,
   "id": "a227dcc0",
   "metadata": {},
   "outputs": [
    {
     "data": {
      "text/plain": [
       "20"
      ]
     },
     "execution_count": 25,
     "metadata": {},
     "output_type": "execute_result"
    }
   ],
   "source": [
    "Locations=[]\n",
    "\n",
    "for i in Loc_tags:\n",
    "    Locations.append(i.text)\n",
    "len(Locations)"
   ]
  },
  {
   "cell_type": "code",
   "execution_count": 26,
   "id": "1b7a82d5",
   "metadata": {},
   "outputs": [
    {
     "data": {
      "text/plain": [
       "['Bangalore/Bengaluru, karnataka\\n(WFH during Covid)',\n",
       " 'Bangalore/Bengaluru',\n",
       " 'Bangalore/Bengaluru, Pune, Chennai',\n",
       " 'Bangalore/Bengaluru',\n",
       " 'Bangalore/Bengaluru(Old Madras Road)',\n",
       " 'Bangalore/Bengaluru',\n",
       " 'Bangalore/Bengaluru',\n",
       " 'Bangalore/Bengaluru',\n",
       " 'Bangalore/Bengaluru',\n",
       " 'Bangalore/Bengaluru',\n",
       " 'Bangalore/Bengaluru, Kolkata, New Delhi, Hyderabad/Secunderabad, Chennai, Mumbai (All Areas)',\n",
       " 'Bangalore/Bengaluru, Mumbai, Hyderabad/Secunderabad, Pune, Chennai, Ahmedabad',\n",
       " 'Bangalore/Bengaluru',\n",
       " 'Bangalore/Bengaluru',\n",
       " 'Bangalore/Bengaluru',\n",
       " 'Bangalore/Bengaluru',\n",
       " 'Bangalore/Bengaluru, Pune, Mumbai (All Areas)',\n",
       " 'Bangalore/Bengaluru',\n",
       " 'Bangalore/Bengaluru, Noida, Kolkata, Mumbai, Gurgaon/Gurugram, Delhi / NCR, Mumbai (All Areas)',\n",
       " 'Bangalore/Bengaluru']"
      ]
     },
     "execution_count": 26,
     "metadata": {},
     "output_type": "execute_result"
    }
   ],
   "source": [
    "Locations"
   ]
  },
  {
   "cell_type": "code",
   "execution_count": 27,
   "id": "71903ae0",
   "metadata": {},
   "outputs": [
    {
     "data": {
      "text/plain": [
       "20"
      ]
     },
     "execution_count": 27,
     "metadata": {},
     "output_type": "execute_result"
    }
   ],
   "source": [
    "Exp_tags = driver.find_elements(By.XPATH,\"//li[@class='fleft grey-text br2 placeHolderLi experience']\")\n",
    "len(Exp_tags)\n"
   ]
  },
  {
   "cell_type": "code",
   "execution_count": 28,
   "id": "b1f8bf43",
   "metadata": {},
   "outputs": [
    {
     "data": {
      "text/plain": [
       "20"
      ]
     },
     "execution_count": 28,
     "metadata": {},
     "output_type": "execute_result"
    }
   ],
   "source": [
    "Experience=[]\n",
    "for i in Exp_tags:\n",
    "        Experience.append(i.text)\n",
    "len(Experience)"
   ]
  },
  {
   "cell_type": "code",
   "execution_count": 29,
   "id": "b4302ea9",
   "metadata": {},
   "outputs": [
    {
     "data": {
      "text/plain": [
       "(20, 20, 20, 20)"
      ]
     },
     "execution_count": 29,
     "metadata": {},
     "output_type": "execute_result"
    }
   ],
   "source": [
    "len(Job_titles),len(Company_names),len(Experience),len(Locations)"
   ]
  },
  {
   "cell_type": "code",
   "execution_count": 30,
   "id": "4475a370",
   "metadata": {},
   "outputs": [
    {
     "data": {
      "text/html": [
       "<div>\n",
       "<style scoped>\n",
       "    .dataframe tbody tr th:only-of-type {\n",
       "        vertical-align: middle;\n",
       "    }\n",
       "\n",
       "    .dataframe tbody tr th {\n",
       "        vertical-align: top;\n",
       "    }\n",
       "\n",
       "    .dataframe thead th {\n",
       "        text-align: right;\n",
       "    }\n",
       "</style>\n",
       "<table border=\"1\" class=\"dataframe\">\n",
       "  <thead>\n",
       "    <tr style=\"text-align: right;\">\n",
       "      <th></th>\n",
       "      <th>Job_titles</th>\n",
       "      <th>Company_names</th>\n",
       "      <th>Locations</th>\n",
       "      <th>Experience</th>\n",
       "    </tr>\n",
       "  </thead>\n",
       "  <tbody>\n",
       "    <tr>\n",
       "      <th>0</th>\n",
       "      <td>Sr.Business Data Analyst</td>\n",
       "      <td>Collabera</td>\n",
       "      <td>Bangalore/Bengaluru, karnataka\\n(WFH during Co...</td>\n",
       "      <td>6-11 Yrs</td>\n",
       "    </tr>\n",
       "    <tr>\n",
       "      <th>1</th>\n",
       "      <td>Sr Data Analyst</td>\n",
       "      <td>Thomson Reuters</td>\n",
       "      <td>Bangalore/Bengaluru</td>\n",
       "      <td>5-8 Yrs</td>\n",
       "    </tr>\n",
       "    <tr>\n",
       "      <th>2</th>\n",
       "      <td>Senior Data Analysis Analyst</td>\n",
       "      <td>Capco</td>\n",
       "      <td>Bangalore/Bengaluru, Pune, Chennai</td>\n",
       "      <td>7-12 Yrs</td>\n",
       "    </tr>\n",
       "    <tr>\n",
       "      <th>3</th>\n",
       "      <td>Data Analyst</td>\n",
       "      <td>Thomson Reuters</td>\n",
       "      <td>Bangalore/Bengaluru</td>\n",
       "      <td>2-3 Yrs</td>\n",
       "    </tr>\n",
       "    <tr>\n",
       "      <th>4</th>\n",
       "      <td>Senior Data Analyst</td>\n",
       "      <td>KrazyBee</td>\n",
       "      <td>Bangalore/Bengaluru(Old Madras Road)</td>\n",
       "      <td>3-6 Yrs</td>\n",
       "    </tr>\n",
       "    <tr>\n",
       "      <th>5</th>\n",
       "      <td>Data Analyst/Senior Data Analyst</td>\n",
       "      <td>Meesho</td>\n",
       "      <td>Bangalore/Bengaluru</td>\n",
       "      <td>3-6 Yrs</td>\n",
       "    </tr>\n",
       "    <tr>\n",
       "      <th>6</th>\n",
       "      <td>Financial Data Analyst</td>\n",
       "      <td>Nuance India</td>\n",
       "      <td>Bangalore/Bengaluru</td>\n",
       "      <td>3-8 Yrs</td>\n",
       "    </tr>\n",
       "    <tr>\n",
       "      <th>7</th>\n",
       "      <td>Data Analyst II</td>\n",
       "      <td>Cerner</td>\n",
       "      <td>Bangalore/Bengaluru</td>\n",
       "      <td>2-4 Yrs</td>\n",
       "    </tr>\n",
       "    <tr>\n",
       "      <th>8</th>\n",
       "      <td>Senior Data Analyst II</td>\n",
       "      <td>Flipkart</td>\n",
       "      <td>Bangalore/Bengaluru</td>\n",
       "      <td>3-6 Yrs</td>\n",
       "    </tr>\n",
       "    <tr>\n",
       "      <th>9</th>\n",
       "      <td>Senior Data Management Analyst</td>\n",
       "      <td>Wells Fargo</td>\n",
       "      <td>Bangalore/Bengaluru</td>\n",
       "      <td>4-7 Yrs</td>\n",
       "    </tr>\n",
       "    <tr>\n",
       "      <th>10</th>\n",
       "      <td>Data Analyst</td>\n",
       "      <td>Kititan Co., Ltd</td>\n",
       "      <td>Bangalore/Bengaluru, Kolkata, New Delhi, Hyder...</td>\n",
       "      <td>5-10 Yrs</td>\n",
       "    </tr>\n",
       "    <tr>\n",
       "      <th>11</th>\n",
       "      <td>Data Analyst - CRM Platform</td>\n",
       "      <td>Artech infosystem</td>\n",
       "      <td>Bangalore/Bengaluru, Mumbai, Hyderabad/Secunde...</td>\n",
       "      <td>1-6 Yrs</td>\n",
       "    </tr>\n",
       "    <tr>\n",
       "      <th>12</th>\n",
       "      <td>Software Technical Expert - Data Analyst</td>\n",
       "      <td>Schneider Electric</td>\n",
       "      <td>Bangalore/Bengaluru</td>\n",
       "      <td>3-6 Yrs</td>\n",
       "    </tr>\n",
       "    <tr>\n",
       "      <th>13</th>\n",
       "      <td>Reference Data Analyst</td>\n",
       "      <td>Deutsche Bank</td>\n",
       "      <td>Bangalore/Bengaluru</td>\n",
       "      <td>2-5 Yrs</td>\n",
       "    </tr>\n",
       "    <tr>\n",
       "      <th>14</th>\n",
       "      <td>Sales Data Analyst</td>\n",
       "      <td>Nuance India</td>\n",
       "      <td>Bangalore/Bengaluru</td>\n",
       "      <td>1-3 Yrs</td>\n",
       "    </tr>\n",
       "    <tr>\n",
       "      <th>15</th>\n",
       "      <td>Lead Data Analyst</td>\n",
       "      <td>PowerSchool India</td>\n",
       "      <td>Bangalore/Bengaluru</td>\n",
       "      <td>3-5 Yrs</td>\n",
       "    </tr>\n",
       "    <tr>\n",
       "      <th>16</th>\n",
       "      <td>Data Analyst</td>\n",
       "      <td>Confidential</td>\n",
       "      <td>Bangalore/Bengaluru, Pune, Mumbai (All Areas)</td>\n",
       "      <td>1-3 Yrs</td>\n",
       "    </tr>\n",
       "    <tr>\n",
       "      <th>17</th>\n",
       "      <td>Data Analyst</td>\n",
       "      <td>Clarivate</td>\n",
       "      <td>Bangalore/Bengaluru</td>\n",
       "      <td>2-4 Yrs</td>\n",
       "    </tr>\n",
       "    <tr>\n",
       "      <th>18</th>\n",
       "      <td>Hiring Data Analyst - Forensics, KPMG India</td>\n",
       "      <td>KPMG India</td>\n",
       "      <td>Bangalore/Bengaluru, Noida, Kolkata, Mumbai, G...</td>\n",
       "      <td>2-6 Yrs</td>\n",
       "    </tr>\n",
       "    <tr>\n",
       "      <th>19</th>\n",
       "      <td>Big data analyst</td>\n",
       "      <td>Accolite Software India Pvt Ltd</td>\n",
       "      <td>Bangalore/Bengaluru</td>\n",
       "      <td>2-6 Yrs</td>\n",
       "    </tr>\n",
       "  </tbody>\n",
       "</table>\n",
       "</div>"
      ],
      "text/plain": [
       "                                     Job_titles  \\\n",
       "0                      Sr.Business Data Analyst   \n",
       "1                               Sr Data Analyst   \n",
       "2                  Senior Data Analysis Analyst   \n",
       "3                                  Data Analyst   \n",
       "4                           Senior Data Analyst   \n",
       "5              Data Analyst/Senior Data Analyst   \n",
       "6                        Financial Data Analyst   \n",
       "7                               Data Analyst II   \n",
       "8                        Senior Data Analyst II   \n",
       "9                Senior Data Management Analyst   \n",
       "10                                 Data Analyst   \n",
       "11                  Data Analyst - CRM Platform   \n",
       "12     Software Technical Expert - Data Analyst   \n",
       "13                       Reference Data Analyst   \n",
       "14                           Sales Data Analyst   \n",
       "15                            Lead Data Analyst   \n",
       "16                                 Data Analyst   \n",
       "17                                 Data Analyst   \n",
       "18  Hiring Data Analyst - Forensics, KPMG India   \n",
       "19                             Big data analyst   \n",
       "\n",
       "                      Company_names  \\\n",
       "0                         Collabera   \n",
       "1                   Thomson Reuters   \n",
       "2                             Capco   \n",
       "3                   Thomson Reuters   \n",
       "4                          KrazyBee   \n",
       "5                            Meesho   \n",
       "6                      Nuance India   \n",
       "7                            Cerner   \n",
       "8                          Flipkart   \n",
       "9                       Wells Fargo   \n",
       "10                 Kititan Co., Ltd   \n",
       "11                Artech infosystem   \n",
       "12               Schneider Electric   \n",
       "13                    Deutsche Bank   \n",
       "14                     Nuance India   \n",
       "15                PowerSchool India   \n",
       "16                     Confidential   \n",
       "17                        Clarivate   \n",
       "18                       KPMG India   \n",
       "19  Accolite Software India Pvt Ltd   \n",
       "\n",
       "                                            Locations Experience  \n",
       "0   Bangalore/Bengaluru, karnataka\\n(WFH during Co...   6-11 Yrs  \n",
       "1                                 Bangalore/Bengaluru    5-8 Yrs  \n",
       "2                  Bangalore/Bengaluru, Pune, Chennai   7-12 Yrs  \n",
       "3                                 Bangalore/Bengaluru    2-3 Yrs  \n",
       "4                Bangalore/Bengaluru(Old Madras Road)    3-6 Yrs  \n",
       "5                                 Bangalore/Bengaluru    3-6 Yrs  \n",
       "6                                 Bangalore/Bengaluru    3-8 Yrs  \n",
       "7                                 Bangalore/Bengaluru    2-4 Yrs  \n",
       "8                                 Bangalore/Bengaluru    3-6 Yrs  \n",
       "9                                 Bangalore/Bengaluru    4-7 Yrs  \n",
       "10  Bangalore/Bengaluru, Kolkata, New Delhi, Hyder...   5-10 Yrs  \n",
       "11  Bangalore/Bengaluru, Mumbai, Hyderabad/Secunde...    1-6 Yrs  \n",
       "12                                Bangalore/Bengaluru    3-6 Yrs  \n",
       "13                                Bangalore/Bengaluru    2-5 Yrs  \n",
       "14                                Bangalore/Bengaluru    1-3 Yrs  \n",
       "15                                Bangalore/Bengaluru    3-5 Yrs  \n",
       "16      Bangalore/Bengaluru, Pune, Mumbai (All Areas)    1-3 Yrs  \n",
       "17                                Bangalore/Bengaluru    2-4 Yrs  \n",
       "18  Bangalore/Bengaluru, Noida, Kolkata, Mumbai, G...    2-6 Yrs  \n",
       "19                                Bangalore/Bengaluru    2-6 Yrs  "
      ]
     },
     "execution_count": 30,
     "metadata": {},
     "output_type": "execute_result"
    }
   ],
   "source": [
    "Jobs=pd.DataFrame()\n",
    "Jobs['Job_titles']=Job_titles\n",
    "Jobs['Company_names']=Company_names\n",
    "Jobs['Locations']=Locations\n",
    "Jobs['Experience']=Experience\n",
    "Jobs"
   ]
  },
  {
   "cell_type": "code",
   "execution_count": 31,
   "id": "79744cbe",
   "metadata": {},
   "outputs": [
    {
     "data": {
      "text/html": [
       "<div>\n",
       "<style scoped>\n",
       "    .dataframe tbody tr th:only-of-type {\n",
       "        vertical-align: middle;\n",
       "    }\n",
       "\n",
       "    .dataframe tbody tr th {\n",
       "        vertical-align: top;\n",
       "    }\n",
       "\n",
       "    .dataframe thead th {\n",
       "        text-align: right;\n",
       "    }\n",
       "</style>\n",
       "<table border=\"1\" class=\"dataframe\">\n",
       "  <thead>\n",
       "    <tr style=\"text-align: right;\">\n",
       "      <th></th>\n",
       "      <th>Job_titles</th>\n",
       "      <th>Company_names</th>\n",
       "      <th>Locations</th>\n",
       "      <th>Experience</th>\n",
       "    </tr>\n",
       "  </thead>\n",
       "  <tbody>\n",
       "    <tr>\n",
       "      <th>0</th>\n",
       "      <td>Sr.Business Data Analyst</td>\n",
       "      <td>Collabera</td>\n",
       "      <td>Bangalore/Bengaluru, karnataka\\n(WFH during Co...</td>\n",
       "      <td>6-11 Yrs</td>\n",
       "    </tr>\n",
       "    <tr>\n",
       "      <th>1</th>\n",
       "      <td>Sr Data Analyst</td>\n",
       "      <td>Thomson Reuters</td>\n",
       "      <td>Bangalore/Bengaluru</td>\n",
       "      <td>5-8 Yrs</td>\n",
       "    </tr>\n",
       "    <tr>\n",
       "      <th>2</th>\n",
       "      <td>Senior Data Analysis Analyst</td>\n",
       "      <td>Capco</td>\n",
       "      <td>Bangalore/Bengaluru, Pune, Chennai</td>\n",
       "      <td>7-12 Yrs</td>\n",
       "    </tr>\n",
       "    <tr>\n",
       "      <th>3</th>\n",
       "      <td>Data Analyst</td>\n",
       "      <td>Thomson Reuters</td>\n",
       "      <td>Bangalore/Bengaluru</td>\n",
       "      <td>2-3 Yrs</td>\n",
       "    </tr>\n",
       "    <tr>\n",
       "      <th>4</th>\n",
       "      <td>Senior Data Analyst</td>\n",
       "      <td>KrazyBee</td>\n",
       "      <td>Bangalore/Bengaluru(Old Madras Road)</td>\n",
       "      <td>3-6 Yrs</td>\n",
       "    </tr>\n",
       "    <tr>\n",
       "      <th>5</th>\n",
       "      <td>Data Analyst/Senior Data Analyst</td>\n",
       "      <td>Meesho</td>\n",
       "      <td>Bangalore/Bengaluru</td>\n",
       "      <td>3-6 Yrs</td>\n",
       "    </tr>\n",
       "    <tr>\n",
       "      <th>6</th>\n",
       "      <td>Financial Data Analyst</td>\n",
       "      <td>Nuance India</td>\n",
       "      <td>Bangalore/Bengaluru</td>\n",
       "      <td>3-8 Yrs</td>\n",
       "    </tr>\n",
       "    <tr>\n",
       "      <th>7</th>\n",
       "      <td>Data Analyst II</td>\n",
       "      <td>Cerner</td>\n",
       "      <td>Bangalore/Bengaluru</td>\n",
       "      <td>2-4 Yrs</td>\n",
       "    </tr>\n",
       "    <tr>\n",
       "      <th>8</th>\n",
       "      <td>Senior Data Analyst II</td>\n",
       "      <td>Flipkart</td>\n",
       "      <td>Bangalore/Bengaluru</td>\n",
       "      <td>3-6 Yrs</td>\n",
       "    </tr>\n",
       "    <tr>\n",
       "      <th>9</th>\n",
       "      <td>Senior Data Management Analyst</td>\n",
       "      <td>Wells Fargo</td>\n",
       "      <td>Bangalore/Bengaluru</td>\n",
       "      <td>4-7 Yrs</td>\n",
       "    </tr>\n",
       "  </tbody>\n",
       "</table>\n",
       "</div>"
      ],
      "text/plain": [
       "                         Job_titles    Company_names  \\\n",
       "0          Sr.Business Data Analyst        Collabera   \n",
       "1                   Sr Data Analyst  Thomson Reuters   \n",
       "2      Senior Data Analysis Analyst            Capco   \n",
       "3                      Data Analyst  Thomson Reuters   \n",
       "4               Senior Data Analyst         KrazyBee   \n",
       "5  Data Analyst/Senior Data Analyst           Meesho   \n",
       "6            Financial Data Analyst     Nuance India   \n",
       "7                   Data Analyst II           Cerner   \n",
       "8            Senior Data Analyst II         Flipkart   \n",
       "9    Senior Data Management Analyst      Wells Fargo   \n",
       "\n",
       "                                           Locations Experience  \n",
       "0  Bangalore/Bengaluru, karnataka\\n(WFH during Co...   6-11 Yrs  \n",
       "1                                Bangalore/Bengaluru    5-8 Yrs  \n",
       "2                 Bangalore/Bengaluru, Pune, Chennai   7-12 Yrs  \n",
       "3                                Bangalore/Bengaluru    2-3 Yrs  \n",
       "4               Bangalore/Bengaluru(Old Madras Road)    3-6 Yrs  \n",
       "5                                Bangalore/Bengaluru    3-6 Yrs  \n",
       "6                                Bangalore/Bengaluru    3-8 Yrs  \n",
       "7                                Bangalore/Bengaluru    2-4 Yrs  \n",
       "8                                Bangalore/Bengaluru    3-6 Yrs  \n",
       "9                                Bangalore/Bengaluru    4-7 Yrs  "
      ]
     },
     "execution_count": 31,
     "metadata": {},
     "output_type": "execute_result"
    }
   ],
   "source": [
    "Jobs[0:10]"
   ]
  },
  {
   "cell_type": "code",
   "execution_count": 32,
   "id": "9641121d",
   "metadata": {},
   "outputs": [],
   "source": [
    "#Q2: Write a python program to scrape data for “Data Scientist” Job position in “Bangalore” location. You \n",
    "#have to scrape the job-title, job-location, company_name. You have to scrape first 10 jobs data.\n",
    "#This task will be done in following steps:\n",
    "#1. First get the webpage https://www.naukri.com/\n",
    "#2. Enter “Data Scientist” in “Skill, Designations, Companies” field and enter “Bangalore” in “enter the\n",
    "#location” field.\n",
    "#3. Then click the search button.\n",
    "#4. Then scrape the data for the first 10 jobs results you get.\n",
    "#5. Finally create a dataframe of the scraped data.\n",
    "#Note: All of the above steps have to be done in code. No step is to be done manually."
   ]
  },
  {
   "cell_type": "code",
   "execution_count": 33,
   "id": "7147410b",
   "metadata": {},
   "outputs": [],
   "source": [
    "import selenium\n",
    "from selenium import webdriver\n",
    "import pandas as pd\n",
    "import warnings\n",
    "warnings.filterwarnings(\"ignore\")"
   ]
  },
  {
   "cell_type": "code",
   "execution_count": 36,
   "id": "2ce43d8f",
   "metadata": {},
   "outputs": [],
   "source": [
    "driver = webdriver.Chrome(r'C:\\Users\\trapt\\Downloads\\chromedriver_win32\\chromedriver.exe')"
   ]
  },
  {
   "cell_type": "code",
   "execution_count": 37,
   "id": "c527aca0",
   "metadata": {},
   "outputs": [],
   "source": [
    "driver = webdriver.Chrome('chromedriver.exe')"
   ]
  },
  {
   "cell_type": "code",
   "execution_count": 38,
   "id": "47d0d8fe",
   "metadata": {},
   "outputs": [],
   "source": [
    "url='https://www.naukri.com/'\n",
    "driver.get(url)"
   ]
  },
  {
   "cell_type": "code",
   "execution_count": 39,
   "id": "78662649",
   "metadata": {},
   "outputs": [],
   "source": [
    "from selenium.webdriver.common.by import By\n"
   ]
  },
  {
   "cell_type": "code",
   "execution_count": 40,
   "id": "c87fcdf7",
   "metadata": {},
   "outputs": [],
   "source": [
    "Search_jobs = driver.find_element(By.CLASS_NAME,\"suggestor-input\")          "
   ]
  },
  {
   "cell_type": "code",
   "execution_count": 41,
   "id": "de24f44f",
   "metadata": {},
   "outputs": [
    {
     "data": {
      "text/plain": [
       "<selenium.webdriver.remote.webelement.WebElement (session=\"a8be052fa0aa07eb2a7a7369a45c18a1\", element=\"8015be96-8073-48f1-ab3c-ee814ab41ba6\")>"
      ]
     },
     "execution_count": 41,
     "metadata": {},
     "output_type": "execute_result"
    }
   ],
   "source": [
    "Search_jobs"
   ]
  },
  {
   "cell_type": "code",
   "execution_count": 42,
   "id": "ec43494c",
   "metadata": {},
   "outputs": [],
   "source": [
    "Search_jobs.send_keys(\"Data Scientist\")"
   ]
  },
  {
   "cell_type": "code",
   "execution_count": 43,
   "id": "d3a6a313",
   "metadata": {},
   "outputs": [],
   "source": [
    "Search_loc = driver.find_element(By.XPATH, \"/html/body/div[1]/div[2]/div[3]/div/div/div[5]/div/div/div/input\")"
   ]
  },
  {
   "cell_type": "code",
   "execution_count": 44,
   "id": "475677af",
   "metadata": {},
   "outputs": [
    {
     "data": {
      "text/plain": [
       "<selenium.webdriver.remote.webelement.WebElement (session=\"a8be052fa0aa07eb2a7a7369a45c18a1\", element=\"9878eb5b-be48-4a89-a35a-7327b7c3c9aa\")>"
      ]
     },
     "execution_count": 44,
     "metadata": {},
     "output_type": "execute_result"
    }
   ],
   "source": [
    "Search_loc"
   ]
  },
  {
   "cell_type": "code",
   "execution_count": 45,
   "id": "b6ada1cf",
   "metadata": {},
   "outputs": [],
   "source": [
    "Search_loc.send_keys(\"Bangalore\")"
   ]
  },
  {
   "cell_type": "code",
   "execution_count": 46,
   "id": "c4f79123",
   "metadata": {},
   "outputs": [],
   "source": [
    "Search_btn =driver.find_element(By.XPATH, \"/html/body/div[1]/div[2]/div[3]/div/div/div[6]\")"
   ]
  },
  {
   "cell_type": "code",
   "execution_count": 47,
   "id": "194cfc95",
   "metadata": {},
   "outputs": [
    {
     "data": {
      "text/plain": [
       "<selenium.webdriver.remote.webelement.WebElement (session=\"a8be052fa0aa07eb2a7a7369a45c18a1\", element=\"e12ae2c9-6dbd-4f67-9a02-82d9958d7b96\")>"
      ]
     },
     "execution_count": 47,
     "metadata": {},
     "output_type": "execute_result"
    }
   ],
   "source": [
    "Search_btn"
   ]
  },
  {
   "cell_type": "code",
   "execution_count": 48,
   "id": "3c61f61e",
   "metadata": {},
   "outputs": [],
   "source": [
    "Search_btn.click()"
   ]
  },
  {
   "cell_type": "code",
   "execution_count": 49,
   "id": "9ca79fd0",
   "metadata": {},
   "outputs": [],
   "source": [
    "Title_tags = driver.find_elements(By.XPATH,\"//a[@class='title fw500 ellipsis']\")"
   ]
  },
  {
   "cell_type": "code",
   "execution_count": 50,
   "id": "f0a846f1",
   "metadata": {},
   "outputs": [
    {
     "data": {
      "text/plain": [
       "20"
      ]
     },
     "execution_count": 50,
     "metadata": {},
     "output_type": "execute_result"
    }
   ],
   "source": [
    "len(Title_tags)"
   ]
  },
  {
   "cell_type": "code",
   "execution_count": 51,
   "id": "c15ebd0c",
   "metadata": {},
   "outputs": [
    {
     "data": {
      "text/plain": [
       "20"
      ]
     },
     "execution_count": 51,
     "metadata": {},
     "output_type": "execute_result"
    }
   ],
   "source": [
    "Job_titles=[]\n",
    "for i in Title_tags:\n",
    "        Job_titles.append(i.text)\n",
    "len(Job_titles)"
   ]
  },
  {
   "cell_type": "code",
   "execution_count": 52,
   "id": "d63612ed",
   "metadata": {},
   "outputs": [
    {
     "data": {
      "text/plain": [
       "['Data Scientist/ Senior Data Scientist',\n",
       " 'Urgent Job Opening For AI Practitioner - Data Science at Wipro Holmes',\n",
       " 'Dataiku Consultant',\n",
       " 'Data Scientist: Advanced Analytics',\n",
       " 'Research Scientist',\n",
       " 'Data Science - Senior Data Scientist - Analytics',\n",
       " 'Principal - Data Scientist',\n",
       " 'Research and Development -AI/ML -(PhD )',\n",
       " 'Opportunity For Data Scientist - Female Candidates ONLY',\n",
       " 'Senior Data Science Engineer',\n",
       " 'Data Science - Engineering Manager',\n",
       " 'Data Scientist',\n",
       " 'Data Scientist- Assistant Manager/Manager',\n",
       " 'Data Scientist',\n",
       " 'Data Scientist, Personalization',\n",
       " 'AWS Sagemaker',\n",
       " 'Data Scientist',\n",
       " 'Data Scientist: Artificial Intelligence',\n",
       " 'Data Scientist - IN3',\n",
       " 'Senior Data Scientist, Personalization']"
      ]
     },
     "execution_count": 52,
     "metadata": {},
     "output_type": "execute_result"
    }
   ],
   "source": [
    "Job_titles"
   ]
  },
  {
   "cell_type": "code",
   "execution_count": 53,
   "id": "c51314a0",
   "metadata": {},
   "outputs": [
    {
     "data": {
      "text/plain": [
       "20"
      ]
     },
     "execution_count": 53,
     "metadata": {},
     "output_type": "execute_result"
    }
   ],
   "source": [
    "Company_tags = driver.find_elements(By.XPATH,\"//a[@class='subTitle ellipsis fleft']\")\n",
    "len(Company_tags)\n"
   ]
  },
  {
   "cell_type": "code",
   "execution_count": 54,
   "id": "64e6a471",
   "metadata": {},
   "outputs": [
    {
     "data": {
      "text/plain": [
       "20"
      ]
     },
     "execution_count": 54,
     "metadata": {},
     "output_type": "execute_result"
    }
   ],
   "source": [
    "\n",
    "Company_names=[]\n",
    "for i in Company_tags:\n",
    "        Company_names.append(i.text)\n",
    "len(Company_names)"
   ]
  },
  {
   "cell_type": "code",
   "execution_count": 55,
   "id": "0414dbe9",
   "metadata": {},
   "outputs": [
    {
     "data": {
      "text/plain": [
       "['Fractal Analytics',\n",
       " 'Wipro',\n",
       " 'Wipro',\n",
       " 'IBM',\n",
       " 'IBM',\n",
       " 'Paytm',\n",
       " 'Schneider Electric',\n",
       " 'EXL',\n",
       " 'PayU',\n",
       " 'Fractal Analytics',\n",
       " 'Paytm',\n",
       " 'UPL',\n",
       " 'Genpact',\n",
       " 'IBM',\n",
       " 'Walmart',\n",
       " 'Wipro',\n",
       " 'Wipro',\n",
       " 'IBM',\n",
       " 'Walmart',\n",
       " 'Walmart']"
      ]
     },
     "execution_count": 55,
     "metadata": {},
     "output_type": "execute_result"
    }
   ],
   "source": [
    "Company_names"
   ]
  },
  {
   "cell_type": "code",
   "execution_count": 56,
   "id": "43f4cada",
   "metadata": {},
   "outputs": [
    {
     "data": {
      "text/plain": [
       "20"
      ]
     },
     "execution_count": 56,
     "metadata": {},
     "output_type": "execute_result"
    }
   ],
   "source": [
    "Loc_tags = driver.find_elements(By.XPATH,\"//li[@class='fleft grey-text br2 placeHolderLi location']\")\n",
    "len(Loc_tags)\n"
   ]
  },
  {
   "cell_type": "code",
   "execution_count": 57,
   "id": "27217231",
   "metadata": {},
   "outputs": [
    {
     "data": {
      "text/plain": [
       "20"
      ]
     },
     "execution_count": 57,
     "metadata": {},
     "output_type": "execute_result"
    }
   ],
   "source": [
    "Locations=[]\n",
    "\n",
    "for i in Loc_tags:\n",
    "    Locations.append(i.text)\n",
    "len(Locations)"
   ]
  },
  {
   "cell_type": "code",
   "execution_count": 58,
   "id": "349a1971",
   "metadata": {},
   "outputs": [
    {
     "data": {
      "text/plain": [
       "['Bangalore/Bengaluru, Pune, Gurgaon/Gurugram, Chennai, Mumbai (All Areas)',\n",
       " 'Bangalore/Bengaluru, Kochi/Cochin, New Delhi, Coimbatore, Chennai, Pune, Mumbai, Hyderabad',\n",
       " 'Bangalore/Bengaluru, Pune, Chennai',\n",
       " 'Bangalore/Bengaluru',\n",
       " 'Bangalore/Bengaluru',\n",
       " 'Bangalore/Bengaluru, Noida',\n",
       " 'Bangalore/Bengaluru',\n",
       " 'Bangalore/Bengaluru, Noida, Hyderabad/Secunderabad, Pune, Gurgaon/Gurugram, Chennai, Delhi / NCR',\n",
       " 'Bangalore/Bengaluru, Gurgaon/Gurugram, Mumbai (All Areas)',\n",
       " 'Bangalore/Bengaluru, Gurgaon/Gurugram, Mumbai (All Areas)',\n",
       " 'Bangalore/Bengaluru, Noida, Mumbai',\n",
       " 'Bangalore/Bengaluru, Mumbai (All Areas)',\n",
       " 'Bangalore/Bengaluru',\n",
       " 'Bangalore/Bengaluru',\n",
       " 'Bangalore/Bengaluru',\n",
       " 'Bangalore/Bengaluru\\n(WFH during Covid)',\n",
       " 'Bangalore/Bengaluru\\n(WFH during Covid)',\n",
       " 'Bangalore/Bengaluru',\n",
       " 'Bangalore/Bengaluru',\n",
       " 'Bangalore/Bengaluru']"
      ]
     },
     "execution_count": 58,
     "metadata": {},
     "output_type": "execute_result"
    }
   ],
   "source": [
    "Locations"
   ]
  },
  {
   "cell_type": "code",
   "execution_count": 59,
   "id": "9d7fda3b",
   "metadata": {},
   "outputs": [
    {
     "data": {
      "text/plain": [
       "(20, 20, 20)"
      ]
     },
     "execution_count": 59,
     "metadata": {},
     "output_type": "execute_result"
    }
   ],
   "source": [
    "len(Job_titles),len(Company_names),len(Locations)"
   ]
  },
  {
   "cell_type": "code",
   "execution_count": 60,
   "id": "ad28b2f0",
   "metadata": {},
   "outputs": [
    {
     "data": {
      "text/html": [
       "<div>\n",
       "<style scoped>\n",
       "    .dataframe tbody tr th:only-of-type {\n",
       "        vertical-align: middle;\n",
       "    }\n",
       "\n",
       "    .dataframe tbody tr th {\n",
       "        vertical-align: top;\n",
       "    }\n",
       "\n",
       "    .dataframe thead th {\n",
       "        text-align: right;\n",
       "    }\n",
       "</style>\n",
       "<table border=\"1\" class=\"dataframe\">\n",
       "  <thead>\n",
       "    <tr style=\"text-align: right;\">\n",
       "      <th></th>\n",
       "      <th>Job_titles</th>\n",
       "      <th>Company_names</th>\n",
       "      <th>Locations</th>\n",
       "    </tr>\n",
       "  </thead>\n",
       "  <tbody>\n",
       "    <tr>\n",
       "      <th>0</th>\n",
       "      <td>Data Scientist/ Senior Data Scientist</td>\n",
       "      <td>Fractal Analytics</td>\n",
       "      <td>Bangalore/Bengaluru, Pune, Gurgaon/Gurugram, C...</td>\n",
       "    </tr>\n",
       "    <tr>\n",
       "      <th>1</th>\n",
       "      <td>Urgent Job Opening For AI Practitioner - Data ...</td>\n",
       "      <td>Wipro</td>\n",
       "      <td>Bangalore/Bengaluru, Kochi/Cochin, New Delhi, ...</td>\n",
       "    </tr>\n",
       "    <tr>\n",
       "      <th>2</th>\n",
       "      <td>Dataiku Consultant</td>\n",
       "      <td>Wipro</td>\n",
       "      <td>Bangalore/Bengaluru, Pune, Chennai</td>\n",
       "    </tr>\n",
       "    <tr>\n",
       "      <th>3</th>\n",
       "      <td>Data Scientist: Advanced Analytics</td>\n",
       "      <td>IBM</td>\n",
       "      <td>Bangalore/Bengaluru</td>\n",
       "    </tr>\n",
       "    <tr>\n",
       "      <th>4</th>\n",
       "      <td>Research Scientist</td>\n",
       "      <td>IBM</td>\n",
       "      <td>Bangalore/Bengaluru</td>\n",
       "    </tr>\n",
       "    <tr>\n",
       "      <th>5</th>\n",
       "      <td>Data Science - Senior Data Scientist - Analytics</td>\n",
       "      <td>Paytm</td>\n",
       "      <td>Bangalore/Bengaluru, Noida</td>\n",
       "    </tr>\n",
       "    <tr>\n",
       "      <th>6</th>\n",
       "      <td>Principal - Data Scientist</td>\n",
       "      <td>Schneider Electric</td>\n",
       "      <td>Bangalore/Bengaluru</td>\n",
       "    </tr>\n",
       "    <tr>\n",
       "      <th>7</th>\n",
       "      <td>Research and Development -AI/ML -(PhD )</td>\n",
       "      <td>EXL</td>\n",
       "      <td>Bangalore/Bengaluru, Noida, Hyderabad/Secunder...</td>\n",
       "    </tr>\n",
       "    <tr>\n",
       "      <th>8</th>\n",
       "      <td>Opportunity For Data Scientist - Female Candid...</td>\n",
       "      <td>PayU</td>\n",
       "      <td>Bangalore/Bengaluru, Gurgaon/Gurugram, Mumbai ...</td>\n",
       "    </tr>\n",
       "    <tr>\n",
       "      <th>9</th>\n",
       "      <td>Senior Data Science Engineer</td>\n",
       "      <td>Fractal Analytics</td>\n",
       "      <td>Bangalore/Bengaluru, Gurgaon/Gurugram, Mumbai ...</td>\n",
       "    </tr>\n",
       "    <tr>\n",
       "      <th>10</th>\n",
       "      <td>Data Science - Engineering Manager</td>\n",
       "      <td>Paytm</td>\n",
       "      <td>Bangalore/Bengaluru, Noida, Mumbai</td>\n",
       "    </tr>\n",
       "    <tr>\n",
       "      <th>11</th>\n",
       "      <td>Data Scientist</td>\n",
       "      <td>UPL</td>\n",
       "      <td>Bangalore/Bengaluru, Mumbai (All Areas)</td>\n",
       "    </tr>\n",
       "    <tr>\n",
       "      <th>12</th>\n",
       "      <td>Data Scientist- Assistant Manager/Manager</td>\n",
       "      <td>Genpact</td>\n",
       "      <td>Bangalore/Bengaluru</td>\n",
       "    </tr>\n",
       "    <tr>\n",
       "      <th>13</th>\n",
       "      <td>Data Scientist</td>\n",
       "      <td>IBM</td>\n",
       "      <td>Bangalore/Bengaluru</td>\n",
       "    </tr>\n",
       "    <tr>\n",
       "      <th>14</th>\n",
       "      <td>Data Scientist, Personalization</td>\n",
       "      <td>Walmart</td>\n",
       "      <td>Bangalore/Bengaluru</td>\n",
       "    </tr>\n",
       "    <tr>\n",
       "      <th>15</th>\n",
       "      <td>AWS Sagemaker</td>\n",
       "      <td>Wipro</td>\n",
       "      <td>Bangalore/Bengaluru\\n(WFH during Covid)</td>\n",
       "    </tr>\n",
       "    <tr>\n",
       "      <th>16</th>\n",
       "      <td>Data Scientist</td>\n",
       "      <td>Wipro</td>\n",
       "      <td>Bangalore/Bengaluru\\n(WFH during Covid)</td>\n",
       "    </tr>\n",
       "    <tr>\n",
       "      <th>17</th>\n",
       "      <td>Data Scientist: Artificial Intelligence</td>\n",
       "      <td>IBM</td>\n",
       "      <td>Bangalore/Bengaluru</td>\n",
       "    </tr>\n",
       "    <tr>\n",
       "      <th>18</th>\n",
       "      <td>Data Scientist - IN3</td>\n",
       "      <td>Walmart</td>\n",
       "      <td>Bangalore/Bengaluru</td>\n",
       "    </tr>\n",
       "    <tr>\n",
       "      <th>19</th>\n",
       "      <td>Senior Data Scientist, Personalization</td>\n",
       "      <td>Walmart</td>\n",
       "      <td>Bangalore/Bengaluru</td>\n",
       "    </tr>\n",
       "  </tbody>\n",
       "</table>\n",
       "</div>"
      ],
      "text/plain": [
       "                                           Job_titles       Company_names  \\\n",
       "0               Data Scientist/ Senior Data Scientist   Fractal Analytics   \n",
       "1   Urgent Job Opening For AI Practitioner - Data ...               Wipro   \n",
       "2                                  Dataiku Consultant               Wipro   \n",
       "3                  Data Scientist: Advanced Analytics                 IBM   \n",
       "4                                  Research Scientist                 IBM   \n",
       "5    Data Science - Senior Data Scientist - Analytics               Paytm   \n",
       "6                          Principal - Data Scientist  Schneider Electric   \n",
       "7             Research and Development -AI/ML -(PhD )                 EXL   \n",
       "8   Opportunity For Data Scientist - Female Candid...                PayU   \n",
       "9                        Senior Data Science Engineer   Fractal Analytics   \n",
       "10                 Data Science - Engineering Manager               Paytm   \n",
       "11                                     Data Scientist                 UPL   \n",
       "12          Data Scientist- Assistant Manager/Manager             Genpact   \n",
       "13                                     Data Scientist                 IBM   \n",
       "14                    Data Scientist, Personalization             Walmart   \n",
       "15                                      AWS Sagemaker               Wipro   \n",
       "16                                     Data Scientist               Wipro   \n",
       "17            Data Scientist: Artificial Intelligence                 IBM   \n",
       "18                               Data Scientist - IN3             Walmart   \n",
       "19             Senior Data Scientist, Personalization             Walmart   \n",
       "\n",
       "                                            Locations  \n",
       "0   Bangalore/Bengaluru, Pune, Gurgaon/Gurugram, C...  \n",
       "1   Bangalore/Bengaluru, Kochi/Cochin, New Delhi, ...  \n",
       "2                  Bangalore/Bengaluru, Pune, Chennai  \n",
       "3                                 Bangalore/Bengaluru  \n",
       "4                                 Bangalore/Bengaluru  \n",
       "5                          Bangalore/Bengaluru, Noida  \n",
       "6                                 Bangalore/Bengaluru  \n",
       "7   Bangalore/Bengaluru, Noida, Hyderabad/Secunder...  \n",
       "8   Bangalore/Bengaluru, Gurgaon/Gurugram, Mumbai ...  \n",
       "9   Bangalore/Bengaluru, Gurgaon/Gurugram, Mumbai ...  \n",
       "10                 Bangalore/Bengaluru, Noida, Mumbai  \n",
       "11            Bangalore/Bengaluru, Mumbai (All Areas)  \n",
       "12                                Bangalore/Bengaluru  \n",
       "13                                Bangalore/Bengaluru  \n",
       "14                                Bangalore/Bengaluru  \n",
       "15            Bangalore/Bengaluru\\n(WFH during Covid)  \n",
       "16            Bangalore/Bengaluru\\n(WFH during Covid)  \n",
       "17                                Bangalore/Bengaluru  \n",
       "18                                Bangalore/Bengaluru  \n",
       "19                                Bangalore/Bengaluru  "
      ]
     },
     "execution_count": 60,
     "metadata": {},
     "output_type": "execute_result"
    }
   ],
   "source": [
    "Jobs=pd.DataFrame()\n",
    "Jobs['Job_titles']=Job_titles\n",
    "Jobs['Company_names']=Company_names\n",
    "Jobs['Locations']=Locations\n",
    "Jobs"
   ]
  },
  {
   "cell_type": "code",
   "execution_count": 61,
   "id": "00ad0c64",
   "metadata": {},
   "outputs": [
    {
     "data": {
      "text/html": [
       "<div>\n",
       "<style scoped>\n",
       "    .dataframe tbody tr th:only-of-type {\n",
       "        vertical-align: middle;\n",
       "    }\n",
       "\n",
       "    .dataframe tbody tr th {\n",
       "        vertical-align: top;\n",
       "    }\n",
       "\n",
       "    .dataframe thead th {\n",
       "        text-align: right;\n",
       "    }\n",
       "</style>\n",
       "<table border=\"1\" class=\"dataframe\">\n",
       "  <thead>\n",
       "    <tr style=\"text-align: right;\">\n",
       "      <th></th>\n",
       "      <th>Job_titles</th>\n",
       "      <th>Company_names</th>\n",
       "      <th>Locations</th>\n",
       "    </tr>\n",
       "  </thead>\n",
       "  <tbody>\n",
       "    <tr>\n",
       "      <th>0</th>\n",
       "      <td>Data Scientist/ Senior Data Scientist</td>\n",
       "      <td>Fractal Analytics</td>\n",
       "      <td>Bangalore/Bengaluru, Pune, Gurgaon/Gurugram, C...</td>\n",
       "    </tr>\n",
       "    <tr>\n",
       "      <th>1</th>\n",
       "      <td>Urgent Job Opening For AI Practitioner - Data ...</td>\n",
       "      <td>Wipro</td>\n",
       "      <td>Bangalore/Bengaluru, Kochi/Cochin, New Delhi, ...</td>\n",
       "    </tr>\n",
       "    <tr>\n",
       "      <th>2</th>\n",
       "      <td>Dataiku Consultant</td>\n",
       "      <td>Wipro</td>\n",
       "      <td>Bangalore/Bengaluru, Pune, Chennai</td>\n",
       "    </tr>\n",
       "    <tr>\n",
       "      <th>3</th>\n",
       "      <td>Data Scientist: Advanced Analytics</td>\n",
       "      <td>IBM</td>\n",
       "      <td>Bangalore/Bengaluru</td>\n",
       "    </tr>\n",
       "    <tr>\n",
       "      <th>4</th>\n",
       "      <td>Research Scientist</td>\n",
       "      <td>IBM</td>\n",
       "      <td>Bangalore/Bengaluru</td>\n",
       "    </tr>\n",
       "    <tr>\n",
       "      <th>5</th>\n",
       "      <td>Data Science - Senior Data Scientist - Analytics</td>\n",
       "      <td>Paytm</td>\n",
       "      <td>Bangalore/Bengaluru, Noida</td>\n",
       "    </tr>\n",
       "    <tr>\n",
       "      <th>6</th>\n",
       "      <td>Principal - Data Scientist</td>\n",
       "      <td>Schneider Electric</td>\n",
       "      <td>Bangalore/Bengaluru</td>\n",
       "    </tr>\n",
       "    <tr>\n",
       "      <th>7</th>\n",
       "      <td>Research and Development -AI/ML -(PhD )</td>\n",
       "      <td>EXL</td>\n",
       "      <td>Bangalore/Bengaluru, Noida, Hyderabad/Secunder...</td>\n",
       "    </tr>\n",
       "    <tr>\n",
       "      <th>8</th>\n",
       "      <td>Opportunity For Data Scientist - Female Candid...</td>\n",
       "      <td>PayU</td>\n",
       "      <td>Bangalore/Bengaluru, Gurgaon/Gurugram, Mumbai ...</td>\n",
       "    </tr>\n",
       "    <tr>\n",
       "      <th>9</th>\n",
       "      <td>Senior Data Science Engineer</td>\n",
       "      <td>Fractal Analytics</td>\n",
       "      <td>Bangalore/Bengaluru, Gurgaon/Gurugram, Mumbai ...</td>\n",
       "    </tr>\n",
       "  </tbody>\n",
       "</table>\n",
       "</div>"
      ],
      "text/plain": [
       "                                          Job_titles       Company_names  \\\n",
       "0              Data Scientist/ Senior Data Scientist   Fractal Analytics   \n",
       "1  Urgent Job Opening For AI Practitioner - Data ...               Wipro   \n",
       "2                                 Dataiku Consultant               Wipro   \n",
       "3                 Data Scientist: Advanced Analytics                 IBM   \n",
       "4                                 Research Scientist                 IBM   \n",
       "5   Data Science - Senior Data Scientist - Analytics               Paytm   \n",
       "6                         Principal - Data Scientist  Schneider Electric   \n",
       "7            Research and Development -AI/ML -(PhD )                 EXL   \n",
       "8  Opportunity For Data Scientist - Female Candid...                PayU   \n",
       "9                       Senior Data Science Engineer   Fractal Analytics   \n",
       "\n",
       "                                           Locations  \n",
       "0  Bangalore/Bengaluru, Pune, Gurgaon/Gurugram, C...  \n",
       "1  Bangalore/Bengaluru, Kochi/Cochin, New Delhi, ...  \n",
       "2                 Bangalore/Bengaluru, Pune, Chennai  \n",
       "3                                Bangalore/Bengaluru  \n",
       "4                                Bangalore/Bengaluru  \n",
       "5                         Bangalore/Bengaluru, Noida  \n",
       "6                                Bangalore/Bengaluru  \n",
       "7  Bangalore/Bengaluru, Noida, Hyderabad/Secunder...  \n",
       "8  Bangalore/Bengaluru, Gurgaon/Gurugram, Mumbai ...  \n",
       "9  Bangalore/Bengaluru, Gurgaon/Gurugram, Mumbai ...  "
      ]
     },
     "execution_count": 61,
     "metadata": {},
     "output_type": "execute_result"
    }
   ],
   "source": [
    "Jobs[0:10]"
   ]
  },
  {
   "cell_type": "code",
   "execution_count": 62,
   "id": "579fa3f9",
   "metadata": {},
   "outputs": [],
   "source": [
    "#3.You have to use the location and salary filter.\n",
    "#You have to scrape data for “Data Scientist” designation for first 10 job results.\n",
    "#You have to scrape the job-title, job-location, company name, experience required. \n",
    "#The location filter to be used is “Delhi/NCR”. The salary filter to be used is “3-6” lakhs\n",
    "#3The task will be done as shown in the below steps:\n",
    "#1. first get the webpage https://www.naukri.com/\n",
    "#2. Enter “Data Scientist” in “Skill, Designations, and Companies” field.\n",
    "#3. Then click the search button.\n",
    "#4. Then apply the location filter and salary filter by checking the respective boxes\n",
    "#5. Then scrape the data for the first 10 jobs results you get.\n",
    "#6. Finally create a dataframe of the scraped data."
   ]
  },
  {
   "cell_type": "code",
   "execution_count": 63,
   "id": "865be18a",
   "metadata": {},
   "outputs": [],
   "source": [
    "import selenium\n",
    "from selenium import webdriver\n",
    "import pandas as pd\n",
    "import warnings\n",
    "warnings.filterwarnings(\"ignore\")"
   ]
  },
  {
   "cell_type": "code",
   "execution_count": 64,
   "id": "d3549f68",
   "metadata": {},
   "outputs": [],
   "source": [
    "driver = webdriver.Chrome(r'C:\\Users\\trapt\\Downloads\\chromedriver_win32\\chromedriver.exe')"
   ]
  },
  {
   "cell_type": "code",
   "execution_count": 65,
   "id": "32d8ab89",
   "metadata": {},
   "outputs": [],
   "source": [
    " driver = webdriver.Chrome('chromedriver.exe')"
   ]
  },
  {
   "cell_type": "code",
   "execution_count": 66,
   "id": "78ea2a1d",
   "metadata": {},
   "outputs": [],
   "source": [
    "url='https://www.naukri.com/'\n",
    "driver.get(url)"
   ]
  },
  {
   "cell_type": "code",
   "execution_count": 68,
   "id": "d4833f91",
   "metadata": {},
   "outputs": [],
   "source": [
    "from selenium.webdriver.common.by import By"
   ]
  },
  {
   "cell_type": "code",
   "execution_count": 69,
   "id": "e7ae86d6",
   "metadata": {},
   "outputs": [],
   "source": [
    "Search_jobs = driver.find_element(By.CLASS_NAME,\"suggestor-input\")           "
   ]
  },
  {
   "cell_type": "code",
   "execution_count": 70,
   "id": "6db58e4f",
   "metadata": {},
   "outputs": [
    {
     "data": {
      "text/plain": [
       "<selenium.webdriver.remote.webelement.WebElement (session=\"ef91ead30f54f07b195dced599c577da\", element=\"7b239f32-a549-4678-9939-464aebc049d3\")>"
      ]
     },
     "execution_count": 70,
     "metadata": {},
     "output_type": "execute_result"
    }
   ],
   "source": [
    "Search_jobs"
   ]
  },
  {
   "cell_type": "code",
   "execution_count": 71,
   "id": "74f10a86",
   "metadata": {},
   "outputs": [],
   "source": [
    "Search_jobs.send_keys(\"Data Scientist\")"
   ]
  },
  {
   "cell_type": "code",
   "execution_count": 72,
   "id": "f2fc9e1f",
   "metadata": {},
   "outputs": [],
   "source": [
    "Search_loc = driver.find_element(By.XPATH, \"/html/body/div[1]/div[2]/div[3]/div/div/div[5]/div/div/div/input\")"
   ]
  },
  {
   "cell_type": "code",
   "execution_count": 73,
   "id": "99b17ce6",
   "metadata": {},
   "outputs": [],
   "source": [
    "Search_loc.send_keys(\"Delhi\")"
   ]
  },
  {
   "cell_type": "code",
   "execution_count": 74,
   "id": "3b786024",
   "metadata": {},
   "outputs": [],
   "source": [
    "Search_btn =driver.find_element(By.XPATH, \"/html/body/div[1]/div[2]/div[3]/div/div/div[6]\")"
   ]
  },
  {
   "cell_type": "code",
   "execution_count": 85,
   "id": "5443b333",
   "metadata": {},
   "outputs": [
    {
     "data": {
      "text/plain": [
       "<selenium.webdriver.remote.webelement.WebElement (session=\"ef91ead30f54f07b195dced599c577da\", element=\"a1c9cdb1-4b01-4f7d-b39d-778dd1e44bb3\")>"
      ]
     },
     "execution_count": 85,
     "metadata": {},
     "output_type": "execute_result"
    }
   ],
   "source": [
    "Search_btn"
   ]
  },
  {
   "cell_type": "code",
   "execution_count": 76,
   "id": "14b12950",
   "metadata": {},
   "outputs": [],
   "source": [
    "Search_btn.click()"
   ]
  },
  {
   "cell_type": "code",
   "execution_count": 81,
   "id": "d2155ffe",
   "metadata": {},
   "outputs": [],
   "source": [
    "Salary_check =driver.find_element(By.XPATH, \"/html/body/div[1]/div[3]/div[2]/section[1]/div[2]/div[2]/div[2]/div[2]\")"
   ]
  },
  {
   "cell_type": "code",
   "execution_count": 82,
   "id": "b4ad93bc",
   "metadata": {},
   "outputs": [],
   "source": [
    "Salary_check.click()"
   ]
  },
  {
   "cell_type": "code",
   "execution_count": 83,
   "id": "7d003d95",
   "metadata": {},
   "outputs": [],
   "source": [
    "Location_check =driver.find_element(By.XPATH, \"/html/body/div[1]/div[3]/div[2]/section[1]/div[2]/div[13]/div[2]/div[3]\")"
   ]
  },
  {
   "cell_type": "code",
   "execution_count": 84,
   "id": "d735957e",
   "metadata": {},
   "outputs": [],
   "source": [
    "Location_check.click()"
   ]
  },
  {
   "cell_type": "code",
   "execution_count": 86,
   "id": "4192f8d5",
   "metadata": {},
   "outputs": [],
   "source": [
    "Title_tags = driver.find_elements(By.XPATH,\"//a[@class='title fw500 ellipsis']\")"
   ]
  },
  {
   "cell_type": "code",
   "execution_count": 87,
   "id": "c4575cbe",
   "metadata": {},
   "outputs": [
    {
     "data": {
      "text/plain": [
       "20"
      ]
     },
     "execution_count": 87,
     "metadata": {},
     "output_type": "execute_result"
    }
   ],
   "source": [
    "len(Title_tags)"
   ]
  },
  {
   "cell_type": "code",
   "execution_count": 88,
   "id": "4d510ae1",
   "metadata": {},
   "outputs": [
    {
     "data": {
      "text/plain": [
       "20"
      ]
     },
     "execution_count": 88,
     "metadata": {},
     "output_type": "execute_result"
    }
   ],
   "source": [
    "Job_titles=[]\n",
    "for i in Title_tags:\n",
    "        Job_titles.append(i.text)\n",
    "len(Job_titles)"
   ]
  },
  {
   "cell_type": "code",
   "execution_count": 89,
   "id": "04d06375",
   "metadata": {},
   "outputs": [
    {
     "data": {
      "text/plain": [
       "['DigitalBCG GAMMA Data Scientist',\n",
       " 'Senior Associate - Data Science',\n",
       " 'Data Scientist - Noida/Bangalore',\n",
       " 'Data Scientist - Engine Algorithm',\n",
       " 'Data Scientist',\n",
       " 'Data Scientist',\n",
       " 'Data Scientist',\n",
       " 'Data Scientist - Machine learning AI',\n",
       " 'Data Scientist - Internet Jobs - II',\n",
       " 'Data Science',\n",
       " 'Data Science',\n",
       " 'Data Scientist - MIND Infotech',\n",
       " 'Data Engineer',\n",
       " 'Associate Data Scientist - Java/ Scala/ Apache Server',\n",
       " 'Data Scientist',\n",
       " 'Machine Learning Seniors',\n",
       " 'Database Management Expert//Ghaziabad',\n",
       " 'Hiring || Data Scientist || North Delhi || 5.5 days working',\n",
       " 'Data scientist- Python',\n",
       " 'Data Analyst (Data Sets, Statistical Models) - Engineering Consultancy']"
      ]
     },
     "execution_count": 89,
     "metadata": {},
     "output_type": "execute_result"
    }
   ],
   "source": [
    "Job_titles"
   ]
  },
  {
   "cell_type": "code",
   "execution_count": 90,
   "id": "41136ed6",
   "metadata": {},
   "outputs": [
    {
     "data": {
      "text/plain": [
       "20"
      ]
     },
     "execution_count": 90,
     "metadata": {},
     "output_type": "execute_result"
    }
   ],
   "source": [
    "Company_tags = driver.find_elements(By.XPATH,\"//a[@class='subTitle ellipsis fleft']\")\n",
    "len(Company_tags)\n"
   ]
  },
  {
   "cell_type": "code",
   "execution_count": 91,
   "id": "dfdf63b4",
   "metadata": {},
   "outputs": [
    {
     "data": {
      "text/plain": [
       "20"
      ]
     },
     "execution_count": 91,
     "metadata": {},
     "output_type": "execute_result"
    }
   ],
   "source": [
    "Company_names=[]\n",
    "for i in Company_tags:\n",
    "        Company_names.append(i.text)\n",
    "len(Company_names)"
   ]
  },
  {
   "cell_type": "code",
   "execution_count": 92,
   "id": "0eabebcc",
   "metadata": {},
   "outputs": [
    {
     "data": {
      "text/plain": [
       "['Boston Consulting Group',\n",
       " 'Black Turtle',\n",
       " 'EXL',\n",
       " 'Primo Hiring',\n",
       " 'Mount Talent Consulting Private Limited',\n",
       " 'Mount Talent Consulting Private Limited',\n",
       " 'Sydata Consulting India Pvt Ltd',\n",
       " 'Teq Analytics',\n",
       " 'Jobs Territory',\n",
       " 'Mount Talent Consulting Private Limited',\n",
       " 'Mount Talent Consulting Private Limited',\n",
       " 'MOTHERSONSUMI INFOTECH & DESIGNS LIMITED',\n",
       " 'excellence',\n",
       " 'Smart work Consultants',\n",
       " 'Kellton Tech Solutions',\n",
       " 'Walking Tree Consultancy Services pvt Ltd',\n",
       " 'ABG Group',\n",
       " 'Shriram Automall',\n",
       " 'TeamPlus Staffing Solution Pvt Ltd',\n",
       " 'The Search House (A Div of JSD Search House Pvt. L td.)']"
      ]
     },
     "execution_count": 92,
     "metadata": {},
     "output_type": "execute_result"
    }
   ],
   "source": [
    "Company_names"
   ]
  },
  {
   "cell_type": "code",
   "execution_count": 93,
   "id": "7dac2baf",
   "metadata": {},
   "outputs": [
    {
     "data": {
      "text/plain": [
       "20"
      ]
     },
     "execution_count": 93,
     "metadata": {},
     "output_type": "execute_result"
    }
   ],
   "source": [
    "Exp_tags = driver.find_elements(By.XPATH,\"//li[@class='fleft grey-text br2 placeHolderLi experience']\")\n",
    "len(Exp_tags)\n"
   ]
  },
  {
   "cell_type": "code",
   "execution_count": 94,
   "id": "623a1c6f",
   "metadata": {},
   "outputs": [
    {
     "data": {
      "text/plain": [
       "20"
      ]
     },
     "execution_count": 94,
     "metadata": {},
     "output_type": "execute_result"
    }
   ],
   "source": [
    "Experience=[]\n",
    "for i in Exp_tags:\n",
    "        Experience.append(i.text)\n",
    "len(Experience)"
   ]
  },
  {
   "cell_type": "code",
   "execution_count": 95,
   "id": "b5f13807",
   "metadata": {},
   "outputs": [
    {
     "data": {
      "text/plain": [
       "['2-5 Yrs',\n",
       " '4-7 Yrs',\n",
       " '5-10 Yrs',\n",
       " '1-3 Yrs',\n",
       " '2-4 Yrs',\n",
       " '2-4 Yrs',\n",
       " '3-8 Yrs',\n",
       " '3-8 Yrs',\n",
       " '3-6 Yrs',\n",
       " '2-5 Yrs',\n",
       " '2-5 Yrs',\n",
       " '4-8 Yrs',\n",
       " '4-9 Yrs',\n",
       " '1-4 Yrs',\n",
       " '3-6 Yrs',\n",
       " '2-5 Yrs',\n",
       " '1-3 Yrs',\n",
       " '4-9 Yrs',\n",
       " '3-6 Yrs',\n",
       " '3-8 Yrs']"
      ]
     },
     "execution_count": 95,
     "metadata": {},
     "output_type": "execute_result"
    }
   ],
   "source": [
    "Experience"
   ]
  },
  {
   "cell_type": "code",
   "execution_count": 96,
   "id": "274e6919",
   "metadata": {},
   "outputs": [
    {
     "data": {
      "text/plain": [
       "20"
      ]
     },
     "execution_count": 96,
     "metadata": {},
     "output_type": "execute_result"
    }
   ],
   "source": [
    "Loc_tags = driver.find_elements(By.XPATH,\"//li[@class='fleft grey-text br2 placeHolderLi location']\")\n",
    "len(Loc_tags)\n"
   ]
  },
  {
   "cell_type": "code",
   "execution_count": 97,
   "id": "ca538327",
   "metadata": {},
   "outputs": [
    {
     "data": {
      "text/plain": [
       "20"
      ]
     },
     "execution_count": 97,
     "metadata": {},
     "output_type": "execute_result"
    }
   ],
   "source": [
    "Locations=[]\n",
    "\n",
    "for i in Loc_tags:\n",
    "    Locations.append(i.text)\n",
    "len(Locations)"
   ]
  },
  {
   "cell_type": "code",
   "execution_count": 98,
   "id": "37f1f29c",
   "metadata": {},
   "outputs": [
    {
     "data": {
      "text/plain": [
       "['New Delhi, Bangalore/Bengaluru',\n",
       " 'Mumbai, Hyderabad/Secunderabad, Gurgaon/Gurugram, Bangalore/Bengaluru',\n",
       " 'Noida, Bangalore/Bengaluru',\n",
       " 'Delhi / NCR, Kolkata, Mumbai, Hyderabad/Secunderabad, Lucknow, Chennai, Ahmedabad, Bangalore/Bengaluru',\n",
       " 'Delhi / NCR, Pune, Bangalore/Bengaluru',\n",
       " 'Delhi / NCR, Pune, Bangalore/Bengaluru',\n",
       " 'Delhi / NCR, Bangalore/Bengaluru, Mumbai (All Areas)\\n(WFH during Covid)',\n",
       " 'Delhi / NCR, Bangalore/Bengaluru, Mumbai (All Areas)\\n(WFH during Covid)',\n",
       " 'Delhi / NCR, Bangalore/Bengaluru, Mumbai (All Areas)',\n",
       " 'Delhi / NCR, Noida, Faridabad, Gurgaon/Gurugram, Bangalore/Bengaluru, Greater Noida',\n",
       " 'Delhi / NCR, Noida, Faridabad, Gurgaon/Gurugram, Bangalore/Bengaluru, Greater Noida',\n",
       " 'Noida',\n",
       " 'Mumbai, New Delhi, Pune',\n",
       " 'Noida',\n",
       " 'Gurgaon/Gurugram',\n",
       " 'Hyderabad/Secunderabad, New Delhi',\n",
       " 'Ghaziabad',\n",
       " 'Delhi / NCR(Netaji Subhash Place)',\n",
       " 'Gurgaon/Gurugram',\n",
       " 'Gurgaon/Gurugram']"
      ]
     },
     "execution_count": 98,
     "metadata": {},
     "output_type": "execute_result"
    }
   ],
   "source": [
    "Locations"
   ]
  },
  {
   "cell_type": "code",
   "execution_count": 99,
   "id": "fa4bc287",
   "metadata": {},
   "outputs": [
    {
     "data": {
      "text/plain": [
       "(20, 20, 20, 20)"
      ]
     },
     "execution_count": 99,
     "metadata": {},
     "output_type": "execute_result"
    }
   ],
   "source": [
    "len(Job_titles),len(Company_names),len(Experience),len(Locations)"
   ]
  },
  {
   "cell_type": "code",
   "execution_count": 100,
   "id": "82db4769",
   "metadata": {},
   "outputs": [
    {
     "data": {
      "text/html": [
       "<div>\n",
       "<style scoped>\n",
       "    .dataframe tbody tr th:only-of-type {\n",
       "        vertical-align: middle;\n",
       "    }\n",
       "\n",
       "    .dataframe tbody tr th {\n",
       "        vertical-align: top;\n",
       "    }\n",
       "\n",
       "    .dataframe thead th {\n",
       "        text-align: right;\n",
       "    }\n",
       "</style>\n",
       "<table border=\"1\" class=\"dataframe\">\n",
       "  <thead>\n",
       "    <tr style=\"text-align: right;\">\n",
       "      <th></th>\n",
       "      <th>Job_titles</th>\n",
       "      <th>Company_names</th>\n",
       "      <th>Locations</th>\n",
       "      <th>Experience</th>\n",
       "    </tr>\n",
       "  </thead>\n",
       "  <tbody>\n",
       "    <tr>\n",
       "      <th>0</th>\n",
       "      <td>DigitalBCG GAMMA Data Scientist</td>\n",
       "      <td>Boston Consulting Group</td>\n",
       "      <td>New Delhi, Bangalore/Bengaluru</td>\n",
       "      <td>2-5 Yrs</td>\n",
       "    </tr>\n",
       "    <tr>\n",
       "      <th>1</th>\n",
       "      <td>Senior Associate - Data Science</td>\n",
       "      <td>Black Turtle</td>\n",
       "      <td>Mumbai, Hyderabad/Secunderabad, Gurgaon/Gurugr...</td>\n",
       "      <td>4-7 Yrs</td>\n",
       "    </tr>\n",
       "    <tr>\n",
       "      <th>2</th>\n",
       "      <td>Data Scientist - Noida/Bangalore</td>\n",
       "      <td>EXL</td>\n",
       "      <td>Noida, Bangalore/Bengaluru</td>\n",
       "      <td>5-10 Yrs</td>\n",
       "    </tr>\n",
       "    <tr>\n",
       "      <th>3</th>\n",
       "      <td>Data Scientist - Engine Algorithm</td>\n",
       "      <td>Primo Hiring</td>\n",
       "      <td>Delhi / NCR, Kolkata, Mumbai, Hyderabad/Secund...</td>\n",
       "      <td>1-3 Yrs</td>\n",
       "    </tr>\n",
       "    <tr>\n",
       "      <th>4</th>\n",
       "      <td>Data Scientist</td>\n",
       "      <td>Mount Talent Consulting Private Limited</td>\n",
       "      <td>Delhi / NCR, Pune, Bangalore/Bengaluru</td>\n",
       "      <td>2-4 Yrs</td>\n",
       "    </tr>\n",
       "    <tr>\n",
       "      <th>5</th>\n",
       "      <td>Data Scientist</td>\n",
       "      <td>Mount Talent Consulting Private Limited</td>\n",
       "      <td>Delhi / NCR, Pune, Bangalore/Bengaluru</td>\n",
       "      <td>2-4 Yrs</td>\n",
       "    </tr>\n",
       "    <tr>\n",
       "      <th>6</th>\n",
       "      <td>Data Scientist</td>\n",
       "      <td>Sydata Consulting India Pvt Ltd</td>\n",
       "      <td>Delhi / NCR, Bangalore/Bengaluru, Mumbai (All ...</td>\n",
       "      <td>3-8 Yrs</td>\n",
       "    </tr>\n",
       "    <tr>\n",
       "      <th>7</th>\n",
       "      <td>Data Scientist - Machine learning AI</td>\n",
       "      <td>Teq Analytics</td>\n",
       "      <td>Delhi / NCR, Bangalore/Bengaluru, Mumbai (All ...</td>\n",
       "      <td>3-8 Yrs</td>\n",
       "    </tr>\n",
       "    <tr>\n",
       "      <th>8</th>\n",
       "      <td>Data Scientist - Internet Jobs - II</td>\n",
       "      <td>Jobs Territory</td>\n",
       "      <td>Delhi / NCR, Bangalore/Bengaluru, Mumbai (All ...</td>\n",
       "      <td>3-6 Yrs</td>\n",
       "    </tr>\n",
       "    <tr>\n",
       "      <th>9</th>\n",
       "      <td>Data Science</td>\n",
       "      <td>Mount Talent Consulting Private Limited</td>\n",
       "      <td>Delhi / NCR, Noida, Faridabad, Gurgaon/Gurugra...</td>\n",
       "      <td>2-5 Yrs</td>\n",
       "    </tr>\n",
       "    <tr>\n",
       "      <th>10</th>\n",
       "      <td>Data Science</td>\n",
       "      <td>Mount Talent Consulting Private Limited</td>\n",
       "      <td>Delhi / NCR, Noida, Faridabad, Gurgaon/Gurugra...</td>\n",
       "      <td>2-5 Yrs</td>\n",
       "    </tr>\n",
       "    <tr>\n",
       "      <th>11</th>\n",
       "      <td>Data Scientist - MIND Infotech</td>\n",
       "      <td>MOTHERSONSUMI INFOTECH &amp; DESIGNS LIMITED</td>\n",
       "      <td>Noida</td>\n",
       "      <td>4-8 Yrs</td>\n",
       "    </tr>\n",
       "    <tr>\n",
       "      <th>12</th>\n",
       "      <td>Data Engineer</td>\n",
       "      <td>excellence</td>\n",
       "      <td>Mumbai, New Delhi, Pune</td>\n",
       "      <td>4-9 Yrs</td>\n",
       "    </tr>\n",
       "    <tr>\n",
       "      <th>13</th>\n",
       "      <td>Associate Data Scientist - Java/ Scala/ Apache...</td>\n",
       "      <td>Smart work Consultants</td>\n",
       "      <td>Noida</td>\n",
       "      <td>1-4 Yrs</td>\n",
       "    </tr>\n",
       "    <tr>\n",
       "      <th>14</th>\n",
       "      <td>Data Scientist</td>\n",
       "      <td>Kellton Tech Solutions</td>\n",
       "      <td>Gurgaon/Gurugram</td>\n",
       "      <td>3-6 Yrs</td>\n",
       "    </tr>\n",
       "    <tr>\n",
       "      <th>15</th>\n",
       "      <td>Machine Learning Seniors</td>\n",
       "      <td>Walking Tree Consultancy Services pvt Ltd</td>\n",
       "      <td>Hyderabad/Secunderabad, New Delhi</td>\n",
       "      <td>2-5 Yrs</td>\n",
       "    </tr>\n",
       "    <tr>\n",
       "      <th>16</th>\n",
       "      <td>Database Management Expert//Ghaziabad</td>\n",
       "      <td>ABG Group</td>\n",
       "      <td>Ghaziabad</td>\n",
       "      <td>1-3 Yrs</td>\n",
       "    </tr>\n",
       "    <tr>\n",
       "      <th>17</th>\n",
       "      <td>Hiring || Data Scientist || North Delhi || 5.5...</td>\n",
       "      <td>Shriram Automall</td>\n",
       "      <td>Delhi / NCR(Netaji Subhash Place)</td>\n",
       "      <td>4-9 Yrs</td>\n",
       "    </tr>\n",
       "    <tr>\n",
       "      <th>18</th>\n",
       "      <td>Data scientist- Python</td>\n",
       "      <td>TeamPlus Staffing Solution Pvt Ltd</td>\n",
       "      <td>Gurgaon/Gurugram</td>\n",
       "      <td>3-6 Yrs</td>\n",
       "    </tr>\n",
       "    <tr>\n",
       "      <th>19</th>\n",
       "      <td>Data Analyst (Data Sets, Statistical Models) -...</td>\n",
       "      <td>The Search House (A Div of JSD Search House Pv...</td>\n",
       "      <td>Gurgaon/Gurugram</td>\n",
       "      <td>3-8 Yrs</td>\n",
       "    </tr>\n",
       "  </tbody>\n",
       "</table>\n",
       "</div>"
      ],
      "text/plain": [
       "                                           Job_titles  \\\n",
       "0                     DigitalBCG GAMMA Data Scientist   \n",
       "1                     Senior Associate - Data Science   \n",
       "2                    Data Scientist - Noida/Bangalore   \n",
       "3                   Data Scientist - Engine Algorithm   \n",
       "4                                      Data Scientist   \n",
       "5                                      Data Scientist   \n",
       "6                                      Data Scientist   \n",
       "7                Data Scientist - Machine learning AI   \n",
       "8                 Data Scientist - Internet Jobs - II   \n",
       "9                                        Data Science   \n",
       "10                                       Data Science   \n",
       "11                     Data Scientist - MIND Infotech   \n",
       "12                                      Data Engineer   \n",
       "13  Associate Data Scientist - Java/ Scala/ Apache...   \n",
       "14                                     Data Scientist   \n",
       "15                           Machine Learning Seniors   \n",
       "16              Database Management Expert//Ghaziabad   \n",
       "17  Hiring || Data Scientist || North Delhi || 5.5...   \n",
       "18                             Data scientist- Python   \n",
       "19  Data Analyst (Data Sets, Statistical Models) -...   \n",
       "\n",
       "                                        Company_names  \\\n",
       "0                             Boston Consulting Group   \n",
       "1                                        Black Turtle   \n",
       "2                                                 EXL   \n",
       "3                                        Primo Hiring   \n",
       "4             Mount Talent Consulting Private Limited   \n",
       "5             Mount Talent Consulting Private Limited   \n",
       "6                     Sydata Consulting India Pvt Ltd   \n",
       "7                                       Teq Analytics   \n",
       "8                                      Jobs Territory   \n",
       "9             Mount Talent Consulting Private Limited   \n",
       "10            Mount Talent Consulting Private Limited   \n",
       "11           MOTHERSONSUMI INFOTECH & DESIGNS LIMITED   \n",
       "12                                         excellence   \n",
       "13                             Smart work Consultants   \n",
       "14                             Kellton Tech Solutions   \n",
       "15          Walking Tree Consultancy Services pvt Ltd   \n",
       "16                                          ABG Group   \n",
       "17                                   Shriram Automall   \n",
       "18                 TeamPlus Staffing Solution Pvt Ltd   \n",
       "19  The Search House (A Div of JSD Search House Pv...   \n",
       "\n",
       "                                            Locations Experience  \n",
       "0                      New Delhi, Bangalore/Bengaluru    2-5 Yrs  \n",
       "1   Mumbai, Hyderabad/Secunderabad, Gurgaon/Gurugr...    4-7 Yrs  \n",
       "2                          Noida, Bangalore/Bengaluru   5-10 Yrs  \n",
       "3   Delhi / NCR, Kolkata, Mumbai, Hyderabad/Secund...    1-3 Yrs  \n",
       "4              Delhi / NCR, Pune, Bangalore/Bengaluru    2-4 Yrs  \n",
       "5              Delhi / NCR, Pune, Bangalore/Bengaluru    2-4 Yrs  \n",
       "6   Delhi / NCR, Bangalore/Bengaluru, Mumbai (All ...    3-8 Yrs  \n",
       "7   Delhi / NCR, Bangalore/Bengaluru, Mumbai (All ...    3-8 Yrs  \n",
       "8   Delhi / NCR, Bangalore/Bengaluru, Mumbai (All ...    3-6 Yrs  \n",
       "9   Delhi / NCR, Noida, Faridabad, Gurgaon/Gurugra...    2-5 Yrs  \n",
       "10  Delhi / NCR, Noida, Faridabad, Gurgaon/Gurugra...    2-5 Yrs  \n",
       "11                                              Noida    4-8 Yrs  \n",
       "12                            Mumbai, New Delhi, Pune    4-9 Yrs  \n",
       "13                                              Noida    1-4 Yrs  \n",
       "14                                   Gurgaon/Gurugram    3-6 Yrs  \n",
       "15                  Hyderabad/Secunderabad, New Delhi    2-5 Yrs  \n",
       "16                                          Ghaziabad    1-3 Yrs  \n",
       "17                  Delhi / NCR(Netaji Subhash Place)    4-9 Yrs  \n",
       "18                                   Gurgaon/Gurugram    3-6 Yrs  \n",
       "19                                   Gurgaon/Gurugram    3-8 Yrs  "
      ]
     },
     "execution_count": 100,
     "metadata": {},
     "output_type": "execute_result"
    }
   ],
   "source": [
    "Jobs=pd.DataFrame()\n",
    "Jobs['Job_titles']=Job_titles\n",
    "Jobs['Company_names']=Company_names\n",
    "Jobs['Locations']=Locations\n",
    "Jobs['Experience']=Experience\n",
    "Jobs"
   ]
  },
  {
   "cell_type": "code",
   "execution_count": 101,
   "id": "1e6afa69",
   "metadata": {},
   "outputs": [
    {
     "data": {
      "text/html": [
       "<div>\n",
       "<style scoped>\n",
       "    .dataframe tbody tr th:only-of-type {\n",
       "        vertical-align: middle;\n",
       "    }\n",
       "\n",
       "    .dataframe tbody tr th {\n",
       "        vertical-align: top;\n",
       "    }\n",
       "\n",
       "    .dataframe thead th {\n",
       "        text-align: right;\n",
       "    }\n",
       "</style>\n",
       "<table border=\"1\" class=\"dataframe\">\n",
       "  <thead>\n",
       "    <tr style=\"text-align: right;\">\n",
       "      <th></th>\n",
       "      <th>Job_titles</th>\n",
       "      <th>Company_names</th>\n",
       "      <th>Locations</th>\n",
       "      <th>Experience</th>\n",
       "    </tr>\n",
       "  </thead>\n",
       "  <tbody>\n",
       "    <tr>\n",
       "      <th>0</th>\n",
       "      <td>DigitalBCG GAMMA Data Scientist</td>\n",
       "      <td>Boston Consulting Group</td>\n",
       "      <td>New Delhi, Bangalore/Bengaluru</td>\n",
       "      <td>2-5 Yrs</td>\n",
       "    </tr>\n",
       "    <tr>\n",
       "      <th>1</th>\n",
       "      <td>Senior Associate - Data Science</td>\n",
       "      <td>Black Turtle</td>\n",
       "      <td>Mumbai, Hyderabad/Secunderabad, Gurgaon/Gurugr...</td>\n",
       "      <td>4-7 Yrs</td>\n",
       "    </tr>\n",
       "    <tr>\n",
       "      <th>2</th>\n",
       "      <td>Data Scientist - Noida/Bangalore</td>\n",
       "      <td>EXL</td>\n",
       "      <td>Noida, Bangalore/Bengaluru</td>\n",
       "      <td>5-10 Yrs</td>\n",
       "    </tr>\n",
       "    <tr>\n",
       "      <th>3</th>\n",
       "      <td>Data Scientist - Engine Algorithm</td>\n",
       "      <td>Primo Hiring</td>\n",
       "      <td>Delhi / NCR, Kolkata, Mumbai, Hyderabad/Secund...</td>\n",
       "      <td>1-3 Yrs</td>\n",
       "    </tr>\n",
       "    <tr>\n",
       "      <th>4</th>\n",
       "      <td>Data Scientist</td>\n",
       "      <td>Mount Talent Consulting Private Limited</td>\n",
       "      <td>Delhi / NCR, Pune, Bangalore/Bengaluru</td>\n",
       "      <td>2-4 Yrs</td>\n",
       "    </tr>\n",
       "    <tr>\n",
       "      <th>5</th>\n",
       "      <td>Data Scientist</td>\n",
       "      <td>Mount Talent Consulting Private Limited</td>\n",
       "      <td>Delhi / NCR, Pune, Bangalore/Bengaluru</td>\n",
       "      <td>2-4 Yrs</td>\n",
       "    </tr>\n",
       "    <tr>\n",
       "      <th>6</th>\n",
       "      <td>Data Scientist</td>\n",
       "      <td>Sydata Consulting India Pvt Ltd</td>\n",
       "      <td>Delhi / NCR, Bangalore/Bengaluru, Mumbai (All ...</td>\n",
       "      <td>3-8 Yrs</td>\n",
       "    </tr>\n",
       "    <tr>\n",
       "      <th>7</th>\n",
       "      <td>Data Scientist - Machine learning AI</td>\n",
       "      <td>Teq Analytics</td>\n",
       "      <td>Delhi / NCR, Bangalore/Bengaluru, Mumbai (All ...</td>\n",
       "      <td>3-8 Yrs</td>\n",
       "    </tr>\n",
       "    <tr>\n",
       "      <th>8</th>\n",
       "      <td>Data Scientist - Internet Jobs - II</td>\n",
       "      <td>Jobs Territory</td>\n",
       "      <td>Delhi / NCR, Bangalore/Bengaluru, Mumbai (All ...</td>\n",
       "      <td>3-6 Yrs</td>\n",
       "    </tr>\n",
       "    <tr>\n",
       "      <th>9</th>\n",
       "      <td>Data Science</td>\n",
       "      <td>Mount Talent Consulting Private Limited</td>\n",
       "      <td>Delhi / NCR, Noida, Faridabad, Gurgaon/Gurugra...</td>\n",
       "      <td>2-5 Yrs</td>\n",
       "    </tr>\n",
       "  </tbody>\n",
       "</table>\n",
       "</div>"
      ],
      "text/plain": [
       "                             Job_titles  \\\n",
       "0       DigitalBCG GAMMA Data Scientist   \n",
       "1       Senior Associate - Data Science   \n",
       "2      Data Scientist - Noida/Bangalore   \n",
       "3     Data Scientist - Engine Algorithm   \n",
       "4                        Data Scientist   \n",
       "5                        Data Scientist   \n",
       "6                        Data Scientist   \n",
       "7  Data Scientist - Machine learning AI   \n",
       "8   Data Scientist - Internet Jobs - II   \n",
       "9                          Data Science   \n",
       "\n",
       "                             Company_names  \\\n",
       "0                  Boston Consulting Group   \n",
       "1                             Black Turtle   \n",
       "2                                      EXL   \n",
       "3                             Primo Hiring   \n",
       "4  Mount Talent Consulting Private Limited   \n",
       "5  Mount Talent Consulting Private Limited   \n",
       "6          Sydata Consulting India Pvt Ltd   \n",
       "7                            Teq Analytics   \n",
       "8                           Jobs Territory   \n",
       "9  Mount Talent Consulting Private Limited   \n",
       "\n",
       "                                           Locations Experience  \n",
       "0                     New Delhi, Bangalore/Bengaluru    2-5 Yrs  \n",
       "1  Mumbai, Hyderabad/Secunderabad, Gurgaon/Gurugr...    4-7 Yrs  \n",
       "2                         Noida, Bangalore/Bengaluru   5-10 Yrs  \n",
       "3  Delhi / NCR, Kolkata, Mumbai, Hyderabad/Secund...    1-3 Yrs  \n",
       "4             Delhi / NCR, Pune, Bangalore/Bengaluru    2-4 Yrs  \n",
       "5             Delhi / NCR, Pune, Bangalore/Bengaluru    2-4 Yrs  \n",
       "6  Delhi / NCR, Bangalore/Bengaluru, Mumbai (All ...    3-8 Yrs  \n",
       "7  Delhi / NCR, Bangalore/Bengaluru, Mumbai (All ...    3-8 Yrs  \n",
       "8  Delhi / NCR, Bangalore/Bengaluru, Mumbai (All ...    3-6 Yrs  \n",
       "9  Delhi / NCR, Noida, Faridabad, Gurgaon/Gurugra...    2-5 Yrs  "
      ]
     },
     "execution_count": 101,
     "metadata": {},
     "output_type": "execute_result"
    }
   ],
   "source": [
    "Jobs[0:10]"
   ]
  },
  {
   "cell_type": "code",
   "execution_count": 102,
   "id": "410a74d3",
   "metadata": {},
   "outputs": [],
   "source": [
    "#Q4: Scrape data of first 100 sunglasses listings on flipkart.com. You have to scrape four attributes:\n",
    "#1. Brand\n",
    "#2. Product Description\n",
    "#3. Price\n",
    "#To scrape the data you have to go through following steps:\n",
    "#1. Go to Flipkart webpage by url : https://www.flipkart.com/\n",
    "#2. Enter “sunglasses” in the search field where “search for products, brands and more” is written and \n",
    "#click the search icon\n",
    "#3. After that you will reach to the page having a lot of sunglasses. From this page you can scrap the \n",
    "#required data as usual.\n",
    "#ASSIGNMENT 2\n",
    "#4. After scraping data from the first page, go to the “Next” Button at the bottom other page , then \n",
    "#click on it.\n",
    "#5. Now scrape data from this page as usual\n",
    "#6. Repeat this until you get data for 100 sunglasses.\n"
   ]
  },
  {
   "cell_type": "code",
   "execution_count": 413,
   "id": "efae4416",
   "metadata": {},
   "outputs": [],
   "source": [
    "import selenium\n",
    "from selenium import webdriver\n",
    "import pandas as pd\n",
    "import warnings\n",
    "warnings.filterwarnings(\"ignore\")"
   ]
  },
  {
   "cell_type": "code",
   "execution_count": 414,
   "id": "0021e2e9",
   "metadata": {},
   "outputs": [],
   "source": [
    "driver = webdriver.Chrome(r'C:\\Users\\trapt\\Downloads\\chromedriver_win32\\chromedriver.exe')"
   ]
  },
  {
   "cell_type": "code",
   "execution_count": 415,
   "id": "52c345dc",
   "metadata": {},
   "outputs": [],
   "source": [
    " driver = webdriver.Chrome('chromedriver.exe')"
   ]
  },
  {
   "cell_type": "code",
   "execution_count": 416,
   "id": "02bbdd12",
   "metadata": {},
   "outputs": [],
   "source": [
    "url=' https://www.flipkart.com/'\n",
    "driver.get(url)"
   ]
  },
  {
   "cell_type": "code",
   "execution_count": 417,
   "id": "86f9a53b",
   "metadata": {},
   "outputs": [],
   "source": [
    "from selenium.webdriver.common.by import By\n"
   ]
  },
  {
   "cell_type": "code",
   "execution_count": 418,
   "id": "6f590ca9",
   "metadata": {},
   "outputs": [],
   "source": [
    "Search_product = driver.find_element(By.CLASS_NAME,\"_3704LK\") "
   ]
  },
  {
   "cell_type": "code",
   "execution_count": 419,
   "id": "69975aa1",
   "metadata": {},
   "outputs": [
    {
     "data": {
      "text/plain": [
       "<selenium.webdriver.remote.webelement.WebElement (session=\"8610bf6cfe71f9a208008bc9a2c6fa34\", element=\"a6c0a64d-effa-469d-b1ec-e19cac568993\")>"
      ]
     },
     "execution_count": 419,
     "metadata": {},
     "output_type": "execute_result"
    }
   ],
   "source": [
    "Search_product"
   ]
  },
  {
   "cell_type": "code",
   "execution_count": 420,
   "id": "266a4c7d",
   "metadata": {},
   "outputs": [],
   "source": [
    "Search_product.send_keys(\"sunglasses\")"
   ]
  },
  {
   "cell_type": "code",
   "execution_count": 421,
   "id": "87a39c80",
   "metadata": {},
   "outputs": [],
   "source": [
    "Search_btn =driver.find_element(By.XPATH, \"/html/body/div[1]/div/div[1]/div[1]/div[2]/div[2]/form/div/button\")"
   ]
  },
  {
   "cell_type": "code",
   "execution_count": 422,
   "id": "db18f48f",
   "metadata": {},
   "outputs": [
    {
     "data": {
      "text/plain": [
       "<selenium.webdriver.remote.webelement.WebElement (session=\"8610bf6cfe71f9a208008bc9a2c6fa34\", element=\"97af0581-c800-4f03-8e97-6545b9f30599\")>"
      ]
     },
     "execution_count": 422,
     "metadata": {},
     "output_type": "execute_result"
    }
   ],
   "source": [
    "Search_btn"
   ]
  },
  {
   "cell_type": "code",
   "execution_count": 423,
   "id": "4182151a",
   "metadata": {},
   "outputs": [],
   "source": [
    "Search_btn.click()"
   ]
  },
  {
   "cell_type": "code",
   "execution_count": 424,
   "id": "ba7b277f",
   "metadata": {},
   "outputs": [],
   "source": [
    "Brand_tags = driver.find_elements(By.XPATH,\"//div[@class='_2WkVRV']\")"
   ]
  },
  {
   "cell_type": "code",
   "execution_count": 425,
   "id": "1543ce84",
   "metadata": {},
   "outputs": [
    {
     "data": {
      "text/plain": [
       "40"
      ]
     },
     "execution_count": 425,
     "metadata": {},
     "output_type": "execute_result"
    }
   ],
   "source": [
    "len(Brand_tags)"
   ]
  },
  {
   "cell_type": "code",
   "execution_count": 426,
   "id": "a6df3372",
   "metadata": {},
   "outputs": [
    {
     "data": {
      "text/plain": [
       "40"
      ]
     },
     "execution_count": 426,
     "metadata": {},
     "output_type": "execute_result"
    }
   ],
   "source": [
    "Brand=[]\n",
    "for i in Brand_tags:\n",
    "        Brand.append(i.text)\n",
    "len(Brand)"
   ]
  },
  {
   "cell_type": "code",
   "execution_count": 173,
   "id": "32c51912",
   "metadata": {},
   "outputs": [
    {
     "data": {
      "text/plain": [
       "['SUNBEE',\n",
       " 'New Specs',\n",
       " 'Fastrack',\n",
       " 'GANSTA',\n",
       " 'SRPM',\n",
       " 'CRYSTAL CART',\n",
       " 'Lee Topper',\n",
       " 'ROYAL SON',\n",
       " 'Fastrack',\n",
       " 'ROZZETTA CRAFT',\n",
       " 'PIRASO',\n",
       " 'VINCENT CHASE',\n",
       " 'CRYSTAL CART',\n",
       " 'LIZA ANGEL',\n",
       " 'Fastrack',\n",
       " 'povty',\n",
       " 'Elligator',\n",
       " 'DEIXELS',\n",
       " 'ROYAL SON',\n",
       " 'ROYAL SON',\n",
       " 'ROYAL SON',\n",
       " 'kingsunglasses',\n",
       " 'kingsunglasses',\n",
       " 'john jacobs',\n",
       " 'Silver Kartz',\n",
       " 'ROYAL SON',\n",
       " 'kingsunglasses',\n",
       " 'ROYAL SON',\n",
       " 'PHENOMENAL',\n",
       " 'PIRASO',\n",
       " 'ROYAL SON',\n",
       " 'Sewell',\n",
       " 'Fastrack',\n",
       " 'Rich Club',\n",
       " 'Lee Topper',\n",
       " 'VINCENT CHASE',\n",
       " 'SRPM',\n",
       " 'New Specs',\n",
       " 'Singco India',\n",
       " 'Sewell']"
      ]
     },
     "execution_count": 173,
     "metadata": {},
     "output_type": "execute_result"
    }
   ],
   "source": [
    "Brand"
   ]
  },
  {
   "cell_type": "code",
   "execution_count": 430,
   "id": "3e7bb9b7",
   "metadata": {},
   "outputs": [],
   "source": [
    "Product_detail = driver.find_elements(By.XPATH,\"//div[@class='rcweVK']\")"
   ]
  },
  {
   "cell_type": "code",
   "execution_count": 431,
   "id": "87a75bc3",
   "metadata": {},
   "outputs": [
    {
     "data": {
      "text/plain": [
       "2"
      ]
     },
     "execution_count": 431,
     "metadata": {},
     "output_type": "execute_result"
    }
   ],
   "source": [
    "len(Product_detail)"
   ]
  },
  {
   "cell_type": "code",
   "execution_count": 432,
   "id": "dd6519fb",
   "metadata": {},
   "outputs": [
    {
     "data": {
      "text/plain": [
       "2"
      ]
     },
     "execution_count": 432,
     "metadata": {},
     "output_type": "execute_result"
    }
   ],
   "source": [
    "Product_info=[]\n",
    "for i in Product_detail:\n",
    "        Product_info.append(i.text)\n",
    "len(Product_info)"
   ]
  },
  {
   "cell_type": "code",
   "execution_count": 433,
   "id": "70dc6ab9",
   "metadata": {},
   "outputs": [
    {
     "data": {
      "text/plain": [
       "['Size Medium', 'Size Free Size']"
      ]
     },
     "execution_count": 433,
     "metadata": {},
     "output_type": "execute_result"
    }
   ],
   "source": [
    "Product_info"
   ]
  },
  {
   "cell_type": "code",
   "execution_count": 434,
   "id": "fb5afeee",
   "metadata": {},
   "outputs": [],
   "source": [
    "Price_tag = driver.find_elements(By.XPATH,\"//div[@class='_30jeq3']\")"
   ]
  },
  {
   "cell_type": "code",
   "execution_count": 435,
   "id": "71bf63c5",
   "metadata": {},
   "outputs": [
    {
     "data": {
      "text/plain": [
       "40"
      ]
     },
     "execution_count": 435,
     "metadata": {},
     "output_type": "execute_result"
    }
   ],
   "source": [
    "len(Price_tag)"
   ]
  },
  {
   "cell_type": "code",
   "execution_count": 436,
   "id": "d03f5b47",
   "metadata": {},
   "outputs": [
    {
     "data": {
      "text/plain": [
       "40"
      ]
     },
     "execution_count": 436,
     "metadata": {},
     "output_type": "execute_result"
    }
   ],
   "source": [
    "Price=[]\n",
    "for i in Price_tag:\n",
    "        Price.append(i.text)\n",
    "len(Price)"
   ]
  },
  {
   "cell_type": "code",
   "execution_count": 437,
   "id": "092259e9",
   "metadata": {},
   "outputs": [
    {
     "data": {
      "text/plain": [
       "['₹1,533',\n",
       " '₹379',\n",
       " '₹177',\n",
       " '₹264',\n",
       " '₹639',\n",
       " '₹315',\n",
       " '₹259',\n",
       " '₹975',\n",
       " '₹283',\n",
       " '₹224',\n",
       " '₹224',\n",
       " '₹499',\n",
       " '₹195',\n",
       " '₹799',\n",
       " '₹639',\n",
       " '₹759',\n",
       " '₹224',\n",
       " '₹359',\n",
       " '₹306',\n",
       " '₹379',\n",
       " '₹299',\n",
       " '₹229',\n",
       " '₹474',\n",
       " '₹319',\n",
       " '₹246',\n",
       " '₹226',\n",
       " '₹410',\n",
       " '₹749',\n",
       " '₹279',\n",
       " '₹1,039',\n",
       " '₹719',\n",
       " '₹759',\n",
       " '₹291',\n",
       " '₹331',\n",
       " '₹265',\n",
       " '₹699',\n",
       " '₹219',\n",
       " '₹299',\n",
       " '₹303',\n",
       " '₹499']"
      ]
     },
     "execution_count": 437,
     "metadata": {},
     "output_type": "execute_result"
    }
   ],
   "source": [
    "Price"
   ]
  },
  {
   "cell_type": "code",
   "execution_count": 438,
   "id": "99e35c9b",
   "metadata": {},
   "outputs": [],
   "source": [
    "Next_btn =driver.find_element(By.XPATH, \"/html/body/div[1]/div/div[3]/div[1]/div[2]/div[12]/div/div/nav/a[11]\")"
   ]
  },
  {
   "cell_type": "code",
   "execution_count": 439,
   "id": "4c656ad2",
   "metadata": {},
   "outputs": [
    {
     "data": {
      "text/plain": [
       "<selenium.webdriver.remote.webelement.WebElement (session=\"8610bf6cfe71f9a208008bc9a2c6fa34\", element=\"cdcbd4ca-9767-420b-8752-391dd8d39bae\")>"
      ]
     },
     "execution_count": 439,
     "metadata": {},
     "output_type": "execute_result"
    }
   ],
   "source": [
    "Next_btn"
   ]
  },
  {
   "cell_type": "code",
   "execution_count": 440,
   "id": "dfbcc9de",
   "metadata": {},
   "outputs": [],
   "source": [
    "Next_btn.click()"
   ]
  },
  {
   "cell_type": "code",
   "execution_count": 441,
   "id": "85d20578",
   "metadata": {},
   "outputs": [],
   "source": [
    "Brand_tags = driver.find_elements(By.XPATH,\"//div[@class='_2WkVRV']\")"
   ]
  },
  {
   "cell_type": "code",
   "execution_count": 442,
   "id": "c3acdd1a",
   "metadata": {},
   "outputs": [
    {
     "data": {
      "text/plain": [
       "40"
      ]
     },
     "execution_count": 442,
     "metadata": {},
     "output_type": "execute_result"
    }
   ],
   "source": [
    "len(Brand_tags)"
   ]
  },
  {
   "cell_type": "code",
   "execution_count": 443,
   "id": "f3035642",
   "metadata": {},
   "outputs": [
    {
     "data": {
      "text/plain": [
       "40"
      ]
     },
     "execution_count": 443,
     "metadata": {},
     "output_type": "execute_result"
    }
   ],
   "source": [
    "Brand_1=[]\n",
    "for i in Brand_tags:\n",
    "        Brand_1.append(i.text)\n",
    "len(Brand_1)"
   ]
  },
  {
   "cell_type": "code",
   "execution_count": 179,
   "id": "8475dd53",
   "metadata": {},
   "outputs": [
    {
     "data": {
      "text/plain": [
       "['SUNBEE',\n",
       " 'New Specs',\n",
       " 'Fastrack',\n",
       " 'GANSTA',\n",
       " 'SRPM',\n",
       " 'CRYSTAL CART',\n",
       " 'Lee Topper',\n",
       " 'ROYAL SON',\n",
       " 'Fastrack',\n",
       " 'ROZZETTA CRAFT',\n",
       " 'PIRASO',\n",
       " 'VINCENT CHASE',\n",
       " 'CRYSTAL CART',\n",
       " 'LIZA ANGEL',\n",
       " 'Fastrack',\n",
       " 'povty',\n",
       " 'Elligator',\n",
       " 'DEIXELS',\n",
       " 'ROYAL SON',\n",
       " 'ROYAL SON',\n",
       " 'ROYAL SON',\n",
       " 'kingsunglasses',\n",
       " 'kingsunglasses',\n",
       " 'john jacobs',\n",
       " 'Silver Kartz',\n",
       " 'ROYAL SON',\n",
       " 'kingsunglasses',\n",
       " 'ROYAL SON',\n",
       " 'PHENOMENAL',\n",
       " 'PIRASO',\n",
       " 'ROYAL SON',\n",
       " 'Sewell',\n",
       " 'Fastrack',\n",
       " 'Rich Club',\n",
       " 'Lee Topper',\n",
       " 'VINCENT CHASE',\n",
       " 'SRPM',\n",
       " 'New Specs',\n",
       " 'Singco India',\n",
       " 'Sewell']"
      ]
     },
     "execution_count": 179,
     "metadata": {},
     "output_type": "execute_result"
    }
   ],
   "source": [
    "Brand_1"
   ]
  },
  {
   "cell_type": "code",
   "execution_count": 444,
   "id": "eaeaa988",
   "metadata": {},
   "outputs": [],
   "source": [
    "Product_detail = driver.find_elements(By.XPATH,\"//div[@class='rcweVK']\")"
   ]
  },
  {
   "cell_type": "code",
   "execution_count": 445,
   "id": "0ed3dc5c",
   "metadata": {},
   "outputs": [
    {
     "data": {
      "text/plain": [
       "0"
      ]
     },
     "execution_count": 445,
     "metadata": {},
     "output_type": "execute_result"
    }
   ],
   "source": [
    "len(Product_detail)"
   ]
  },
  {
   "cell_type": "code",
   "execution_count": 446,
   "id": "879715c4",
   "metadata": {},
   "outputs": [
    {
     "data": {
      "text/plain": [
       "0"
      ]
     },
     "execution_count": 446,
     "metadata": {},
     "output_type": "execute_result"
    }
   ],
   "source": [
    "Product_info=[]\n",
    "for i in Product_detail:\n",
    "        Product_info.append(i.text)\n",
    "len(Product_info)"
   ]
  },
  {
   "cell_type": "code",
   "execution_count": 447,
   "id": "7e033eb8",
   "metadata": {},
   "outputs": [
    {
     "data": {
      "text/plain": [
       "[]"
      ]
     },
     "execution_count": 447,
     "metadata": {},
     "output_type": "execute_result"
    }
   ],
   "source": [
    "Product_info"
   ]
  },
  {
   "cell_type": "code",
   "execution_count": 448,
   "id": "a8e851ca",
   "metadata": {},
   "outputs": [],
   "source": [
    "Price_tag = driver.find_elements(By.XPATH,\"//div[@class='_30jeq3']\")"
   ]
  },
  {
   "cell_type": "code",
   "execution_count": 449,
   "id": "e4715eb4",
   "metadata": {},
   "outputs": [
    {
     "data": {
      "text/plain": [
       "40"
      ]
     },
     "execution_count": 449,
     "metadata": {},
     "output_type": "execute_result"
    }
   ],
   "source": [
    "len(Price_tag)"
   ]
  },
  {
   "cell_type": "code",
   "execution_count": 450,
   "id": "7b9bc678",
   "metadata": {},
   "outputs": [
    {
     "data": {
      "text/plain": [
       "40"
      ]
     },
     "execution_count": 450,
     "metadata": {},
     "output_type": "execute_result"
    }
   ],
   "source": [
    "Price=[]\n",
    "for i in Price_tag:\n",
    "        Price.append(i.text)\n",
    "len(Price)"
   ]
  },
  {
   "cell_type": "code",
   "execution_count": 186,
   "id": "82833417",
   "metadata": {},
   "outputs": [
    {
     "data": {
      "text/plain": [
       "['₹283',\n",
       " '₹299',\n",
       " '₹759',\n",
       " '₹314',\n",
       " '₹249',\n",
       " '₹529',\n",
       " '₹219',\n",
       " '₹759',\n",
       " '₹719',\n",
       " '₹379',\n",
       " '₹246',\n",
       " '₹949',\n",
       " '₹189',\n",
       " '₹199',\n",
       " '₹759',\n",
       " '₹319',\n",
       " '₹219',\n",
       " '₹236',\n",
       " '₹379',\n",
       " '₹759',\n",
       " '₹379',\n",
       " '₹194',\n",
       " '₹164',\n",
       " '₹3,000',\n",
       " '₹288',\n",
       " '₹379',\n",
       " '₹189',\n",
       " '₹854',\n",
       " '₹360',\n",
       " '₹223',\n",
       " '₹379',\n",
       " '₹616',\n",
       " '₹899',\n",
       " '₹265',\n",
       " '₹245',\n",
       " '₹749',\n",
       " '₹233',\n",
       " '₹268',\n",
       " '₹598',\n",
       " '₹616']"
      ]
     },
     "execution_count": 186,
     "metadata": {},
     "output_type": "execute_result"
    }
   ],
   "source": [
    "Price"
   ]
  },
  {
   "cell_type": "code",
   "execution_count": 451,
   "id": "1822792a",
   "metadata": {},
   "outputs": [],
   "source": [
    "Next_btn =driver.find_element(By.XPATH, \"/html/body/div[1]/div/div[3]/div[1]/div[2]/div[12]/div/div/nav/a[12]\")"
   ]
  },
  {
   "cell_type": "code",
   "execution_count": 452,
   "id": "03d9b405",
   "metadata": {},
   "outputs": [
    {
     "data": {
      "text/plain": [
       "<selenium.webdriver.remote.webelement.WebElement (session=\"8610bf6cfe71f9a208008bc9a2c6fa34\", element=\"cdcbd4ca-9767-420b-8752-391dd8d39bae\")>"
      ]
     },
     "execution_count": 452,
     "metadata": {},
     "output_type": "execute_result"
    }
   ],
   "source": [
    "Next_btn"
   ]
  },
  {
   "cell_type": "code",
   "execution_count": 453,
   "id": "025005ff",
   "metadata": {},
   "outputs": [],
   "source": [
    "Next_btn.click()"
   ]
  },
  {
   "cell_type": "code",
   "execution_count": 454,
   "id": "e575519a",
   "metadata": {},
   "outputs": [],
   "source": [
    "Brand_tags = driver.find_elements(By.XPATH,\"//div[@class='_2WkVRV']\")"
   ]
  },
  {
   "cell_type": "code",
   "execution_count": 455,
   "id": "d78f63f7",
   "metadata": {},
   "outputs": [
    {
     "data": {
      "text/plain": [
       "40"
      ]
     },
     "execution_count": 455,
     "metadata": {},
     "output_type": "execute_result"
    }
   ],
   "source": [
    "len(Brand_tags)"
   ]
  },
  {
   "cell_type": "code",
   "execution_count": 456,
   "id": "c6951572",
   "metadata": {},
   "outputs": [
    {
     "data": {
      "text/plain": [
       "40"
      ]
     },
     "execution_count": 456,
     "metadata": {},
     "output_type": "execute_result"
    }
   ],
   "source": [
    "Brand_2=[]\n",
    "for i in Brand_tags:\n",
    "        Brand_2.append(i.text)\n",
    "len(Brand_2)"
   ]
  },
  {
   "cell_type": "code",
   "execution_count": 200,
   "id": "15b3788d",
   "metadata": {},
   "outputs": [
    {
     "data": {
      "text/plain": [
       "['VINCENT CHASE',\n",
       " 'Fastrack',\n",
       " 'Fastrack',\n",
       " 'AISLIN',\n",
       " 'ROYAL SON',\n",
       " 'Rich Club',\n",
       " 'ROZZETTA CRAFT',\n",
       " 'ROYAL SON',\n",
       " 'VINCENT CHASE',\n",
       " 'Fastrack',\n",
       " 'VINCENT CHASE',\n",
       " 'ROZZETTA CRAFT',\n",
       " 'PIRASO',\n",
       " 'AISLIN',\n",
       " 'Fastrack',\n",
       " 'ROZZETTA CRAFT',\n",
       " 'Lee Topper',\n",
       " 'SHAAH COLLECTIONS',\n",
       " 'Fastrack',\n",
       " 'AISLIN',\n",
       " 'ROYAL SON',\n",
       " 'ROYAL SON',\n",
       " 'Lee Topper',\n",
       " 'Sewell',\n",
       " 'New Specs',\n",
       " 'New Specs',\n",
       " 'ROYAL SON',\n",
       " 'IZAAN MART',\n",
       " 'GANSTA',\n",
       " 'Fastrack',\n",
       " 'kingsunglasses',\n",
       " 'ROYAL SON',\n",
       " 'PHENOMENAL',\n",
       " 'GANSTA',\n",
       " 'VINCENT CHASE',\n",
       " 'ROYAL SON',\n",
       " 'Mi',\n",
       " 'VINCENT CHASE',\n",
       " 'CRYSTAL CART',\n",
       " 'DEIXELS']"
      ]
     },
     "execution_count": 200,
     "metadata": {},
     "output_type": "execute_result"
    }
   ],
   "source": [
    "Brand_2"
   ]
  },
  {
   "cell_type": "code",
   "execution_count": 457,
   "id": "e373acac",
   "metadata": {},
   "outputs": [],
   "source": [
    "Product_detail = driver.find_elements(By.XPATH,\"//div[@class='rcweVK']\")"
   ]
  },
  {
   "cell_type": "code",
   "execution_count": 202,
   "id": "3e8bfc02",
   "metadata": {},
   "outputs": [
    {
     "data": {
      "text/plain": [
       "7"
      ]
     },
     "execution_count": 202,
     "metadata": {},
     "output_type": "execute_result"
    }
   ],
   "source": [
    "len(Product_detail)"
   ]
  },
  {
   "cell_type": "code",
   "execution_count": 203,
   "id": "109af07b",
   "metadata": {},
   "outputs": [
    {
     "data": {
      "text/plain": [
       "7"
      ]
     },
     "execution_count": 203,
     "metadata": {},
     "output_type": "execute_result"
    }
   ],
   "source": [
    "Product_info=[]\n",
    "for i in Product_detail:\n",
    "        Product_info.append(i.text)\n",
    "len(Product_info)"
   ]
  },
  {
   "cell_type": "code",
   "execution_count": 204,
   "id": "070b21a0",
   "metadata": {},
   "outputs": [
    {
     "data": {
      "text/plain": [
       "['Size Medium',\n",
       " 'Size Free Size, Large',\n",
       " 'Size Large',\n",
       " 'Size Free Size',\n",
       " 'Size Free Size',\n",
       " 'Size Medium',\n",
       " 'Size Large']"
      ]
     },
     "execution_count": 204,
     "metadata": {},
     "output_type": "execute_result"
    }
   ],
   "source": [
    "Product_info"
   ]
  },
  {
   "cell_type": "code",
   "execution_count": 460,
   "id": "9d25f42a",
   "metadata": {},
   "outputs": [],
   "source": [
    "Price_tag = driver.find_elements(By.XPATH,\"//div[@class='_30jeq3']\")"
   ]
  },
  {
   "cell_type": "code",
   "execution_count": 461,
   "id": "f920c157",
   "metadata": {},
   "outputs": [
    {
     "data": {
      "text/plain": [
       "40"
      ]
     },
     "execution_count": 461,
     "metadata": {},
     "output_type": "execute_result"
    }
   ],
   "source": [
    "len(Price_tag)"
   ]
  },
  {
   "cell_type": "code",
   "execution_count": 462,
   "id": "2fafb196",
   "metadata": {},
   "outputs": [
    {
     "data": {
      "text/plain": [
       "40"
      ]
     },
     "execution_count": 462,
     "metadata": {},
     "output_type": "execute_result"
    }
   ],
   "source": [
    "Price=[]\n",
    "for i in Price_tag:\n",
    "        Price.append(i.text)\n",
    "len(Price)"
   ]
  },
  {
   "cell_type": "code",
   "execution_count": 463,
   "id": "fb2cebc3",
   "metadata": {},
   "outputs": [
    {
     "data": {
      "text/plain": [
       "['₹379',\n",
       " '₹849',\n",
       " '₹899',\n",
       " '₹499',\n",
       " '₹759',\n",
       " '₹269',\n",
       " '₹289',\n",
       " '₹759',\n",
       " '₹949',\n",
       " '₹598',\n",
       " '₹265',\n",
       " '₹749',\n",
       " '₹245',\n",
       " '₹268',\n",
       " '₹899',\n",
       " '₹799',\n",
       " '₹329',\n",
       " '₹664',\n",
       " '₹260',\n",
       " '₹569',\n",
       " '₹949',\n",
       " '₹599',\n",
       " '₹269',\n",
       " '₹197',\n",
       " '₹899',\n",
       " '₹269',\n",
       " '₹214',\n",
       " '₹616',\n",
       " '₹498',\n",
       " '₹379',\n",
       " '₹324',\n",
       " '₹530',\n",
       " '₹249',\n",
       " '₹735',\n",
       " '₹809',\n",
       " '₹799',\n",
       " '₹217',\n",
       " '₹405',\n",
       " '₹639',\n",
       " '₹711']"
      ]
     },
     "execution_count": 463,
     "metadata": {},
     "output_type": "execute_result"
    }
   ],
   "source": [
    "Price"
   ]
  },
  {
   "cell_type": "code",
   "execution_count": 464,
   "id": "c3917e3e",
   "metadata": {},
   "outputs": [],
   "source": [
    "#Q8: Go to webpage https://www.amazon.in/\n",
    "#Enter “Laptop” in the search field and then click the search icon.\n",
    "#Then set CPU Type filter to “Intel Core i7” as shown in the below image\n",
    "#After setting the filters scrape first 10 laptops data. You have to scrape 3 attributesfor each laptop:\n",
    "#1. Title\n",
    "#2. Ratings\n",
    "#3. Price\n"
   ]
  },
  {
   "cell_type": "code",
   "execution_count": 465,
   "id": "f63b199d",
   "metadata": {},
   "outputs": [],
   "source": [
    "import selenium\n",
    "from selenium import webdriver\n",
    "import pandas as pd\n",
    "import warnings\n",
    "warnings.filterwarnings(\"ignore\")"
   ]
  },
  {
   "cell_type": "code",
   "execution_count": 466,
   "id": "758a4d12",
   "metadata": {},
   "outputs": [],
   "source": [
    "driver = webdriver.Chrome(r'C:\\Users\\trapt\\Downloads\\chromedriver_win32\\chromedriver.exe')"
   ]
  },
  {
   "cell_type": "code",
   "execution_count": 467,
   "id": "d8e58088",
   "metadata": {},
   "outputs": [],
   "source": [
    "driver = webdriver.Chrome('chromedriver.exe')"
   ]
  },
  {
   "cell_type": "code",
   "execution_count": 468,
   "id": "2e40ed71",
   "metadata": {},
   "outputs": [],
   "source": [
    "url='https://www.amazon.in/'\n",
    "driver.get(url)"
   ]
  },
  {
   "cell_type": "code",
   "execution_count": 469,
   "id": "ce2b6230",
   "metadata": {},
   "outputs": [],
   "source": [
    "from selenium.webdriver.common.by import By\n"
   ]
  },
  {
   "cell_type": "code",
   "execution_count": 485,
   "id": "666adaa8",
   "metadata": {},
   "outputs": [],
   "source": [
    "Search_lap = driver.find_element(By.ID,\"twotabsearchtextbox\")         "
   ]
  },
  {
   "cell_type": "code",
   "execution_count": 486,
   "id": "5606e21c",
   "metadata": {},
   "outputs": [
    {
     "data": {
      "text/plain": [
       "<selenium.webdriver.remote.webelement.WebElement (session=\"8363b09ce7c6123930a94f8da5d772e4\", element=\"4ca767d2-e512-4318-8c0a-6a184a7a0014\")>"
      ]
     },
     "execution_count": 486,
     "metadata": {},
     "output_type": "execute_result"
    }
   ],
   "source": [
    "Search_lap"
   ]
  },
  {
   "cell_type": "code",
   "execution_count": 488,
   "id": "86ce3796",
   "metadata": {},
   "outputs": [],
   "source": [
    "Search_lap.send_keys(\"Laptop\")"
   ]
  },
  {
   "cell_type": "code",
   "execution_count": 491,
   "id": "ae29bb2b",
   "metadata": {},
   "outputs": [],
   "source": [
    "Search_icn =driver.find_element(By.ID, \"nav-search-submit-button\")"
   ]
  },
  {
   "cell_type": "code",
   "execution_count": 492,
   "id": "4cf1e26a",
   "metadata": {},
   "outputs": [
    {
     "data": {
      "text/plain": [
       "<selenium.webdriver.remote.webelement.WebElement (session=\"8363b09ce7c6123930a94f8da5d772e4\", element=\"3a4cd349-2d60-4782-97c5-3241fdee98ba\")>"
      ]
     },
     "execution_count": 492,
     "metadata": {},
     "output_type": "execute_result"
    }
   ],
   "source": [
    "Search_icn"
   ]
  },
  {
   "cell_type": "code",
   "execution_count": 493,
   "id": "d21c99bb",
   "metadata": {},
   "outputs": [],
   "source": [
    "Search_icn.click()"
   ]
  },
  {
   "cell_type": "code",
   "execution_count": 524,
   "id": "583df5e8",
   "metadata": {},
   "outputs": [],
   "source": [
    "CPU = driver.find_elements(By.XPATH,\"/html/body/div[1]/div[2]/div[1]/div[2]/div/div[3]/span/div[1]/div/div/div[6]/div[4]\")"
   ]
  },
  {
   "cell_type": "code",
   "execution_count": 525,
   "id": "e4534c9f",
   "metadata": {},
   "outputs": [
    {
     "data": {
      "text/plain": [
       "[<selenium.webdriver.remote.webelement.WebElement (session=\"8363b09ce7c6123930a94f8da5d772e4\", element=\"1620e8cc-bdea-44ba-8dc3-d1e8534be492\")>]"
      ]
     },
     "execution_count": 525,
     "metadata": {},
     "output_type": "execute_result"
    }
   ],
   "source": [
    "CPU"
   ]
  },
  {
   "cell_type": "code",
   "execution_count": null,
   "id": "3b757d90",
   "metadata": {},
   "outputs": [],
   "source": []
  },
  {
   "cell_type": "code",
   "execution_count": null,
   "id": "cf8113ef",
   "metadata": {},
   "outputs": [],
   "source": []
  }
 ],
 "metadata": {
  "kernelspec": {
   "display_name": "Python 3 (ipykernel)",
   "language": "python",
   "name": "python3"
  },
  "language_info": {
   "codemirror_mode": {
    "name": "ipython",
    "version": 3
   },
   "file_extension": ".py",
   "mimetype": "text/x-python",
   "name": "python",
   "nbconvert_exporter": "python",
   "pygments_lexer": "ipython3",
   "version": "3.9.12"
  }
 },
 "nbformat": 4,
 "nbformat_minor": 5
}
